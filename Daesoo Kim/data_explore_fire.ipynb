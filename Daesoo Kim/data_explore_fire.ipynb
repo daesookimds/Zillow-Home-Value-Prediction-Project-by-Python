{
 "cells": [
  {
   "cell_type": "code",
   "execution_count": 1,
   "metadata": {},
   "outputs": [
    {
     "name": "stderr",
     "output_type": "stream",
     "text": [
      "C:\\Users\\USER\\Anaconda3\\lib\\site-packages\\statsmodels\\compat\\pandas.py:56: FutureWarning: The pandas.core.datetools module is deprecated and will be removed in a future version. Please use the pandas.tseries module instead.\n",
      "  from pandas.core import datetools\n"
     ]
    }
   ],
   "source": [
    "from matplotlib import pyplot\n",
    "import pandas as pd\n",
    "import numpy as np\n",
    "import seaborn as sns\n",
    "import statsmodels.api as sm\n",
    "\n",
    "%matplotlib inline"
   ]
  },
  {
   "cell_type": "code",
   "execution_count": 2,
   "metadata": {},
   "outputs": [
    {
     "name": "stdout",
     "output_type": "stream",
     "text": [
      "(90275, 3)\n"
     ]
    },
    {
     "data": {
      "text/html": [
       "<div>\n",
       "<style scoped>\n",
       "    .dataframe tbody tr th:only-of-type {\n",
       "        vertical-align: middle;\n",
       "    }\n",
       "\n",
       "    .dataframe tbody tr th {\n",
       "        vertical-align: top;\n",
       "    }\n",
       "\n",
       "    .dataframe thead th {\n",
       "        text-align: right;\n",
       "    }\n",
       "</style>\n",
       "<table border=\"1\" class=\"dataframe\">\n",
       "  <thead>\n",
       "    <tr style=\"text-align: right;\">\n",
       "      <th></th>\n",
       "      <th>parcelid</th>\n",
       "      <th>logerror</th>\n",
       "      <th>transactiondate</th>\n",
       "    </tr>\n",
       "  </thead>\n",
       "  <tbody>\n",
       "    <tr>\n",
       "      <th>90270</th>\n",
       "      <td>10774160</td>\n",
       "      <td>-0.0356</td>\n",
       "      <td>2016-12-30</td>\n",
       "    </tr>\n",
       "    <tr>\n",
       "      <th>90271</th>\n",
       "      <td>12046695</td>\n",
       "      <td>0.0070</td>\n",
       "      <td>2016-12-30</td>\n",
       "    </tr>\n",
       "    <tr>\n",
       "      <th>90272</th>\n",
       "      <td>12995401</td>\n",
       "      <td>-0.2679</td>\n",
       "      <td>2016-12-30</td>\n",
       "    </tr>\n",
       "    <tr>\n",
       "      <th>90273</th>\n",
       "      <td>11402105</td>\n",
       "      <td>0.0602</td>\n",
       "      <td>2016-12-30</td>\n",
       "    </tr>\n",
       "    <tr>\n",
       "      <th>90274</th>\n",
       "      <td>12566293</td>\n",
       "      <td>0.4207</td>\n",
       "      <td>2016-12-30</td>\n",
       "    </tr>\n",
       "  </tbody>\n",
       "</table>\n",
       "</div>"
      ],
      "text/plain": [
       "       parcelid  logerror transactiondate\n",
       "90270  10774160   -0.0356      2016-12-30\n",
       "90271  12046695    0.0070      2016-12-30\n",
       "90272  12995401   -0.2679      2016-12-30\n",
       "90273  11402105    0.0602      2016-12-30\n",
       "90274  12566293    0.4207      2016-12-30"
      ]
     },
     "execution_count": 2,
     "metadata": {},
     "output_type": "execute_result"
    }
   ],
   "source": [
    "train16 = pd.read_csv(\"zillow_data/train_2016_v2.csv\", parse_dates=[\"transactiondate\"])\n",
    "print(train16.shape)\n",
    "train16.tail()"
   ]
  },
  {
   "cell_type": "code",
   "execution_count": 3,
   "metadata": {},
   "outputs": [
    {
     "name": "stderr",
     "output_type": "stream",
     "text": [
      "C:\\Users\\USER\\Anaconda3\\lib\\site-packages\\IPython\\core\\interactiveshell.py:2698: DtypeWarning: Columns (22,32,34,49,55) have mixed types. Specify dtype option on import or set low_memory=False.\n",
      "  interactivity=interactivity, compiler=compiler, result=result)\n"
     ]
    },
    {
     "name": "stdout",
     "output_type": "stream",
     "text": [
      "(2985217, 58)\n"
     ]
    },
    {
     "data": {
      "text/html": [
       "<div>\n",
       "<style scoped>\n",
       "    .dataframe tbody tr th:only-of-type {\n",
       "        vertical-align: middle;\n",
       "    }\n",
       "\n",
       "    .dataframe tbody tr th {\n",
       "        vertical-align: top;\n",
       "    }\n",
       "\n",
       "    .dataframe thead th {\n",
       "        text-align: right;\n",
       "    }\n",
       "</style>\n",
       "<table border=\"1\" class=\"dataframe\">\n",
       "  <thead>\n",
       "    <tr style=\"text-align: right;\">\n",
       "      <th></th>\n",
       "      <th>parcelid</th>\n",
       "      <th>airconditioningtypeid</th>\n",
       "      <th>architecturalstyletypeid</th>\n",
       "      <th>basementsqft</th>\n",
       "      <th>bathroomcnt</th>\n",
       "      <th>bedroomcnt</th>\n",
       "      <th>buildingclasstypeid</th>\n",
       "      <th>buildingqualitytypeid</th>\n",
       "      <th>calculatedbathnbr</th>\n",
       "      <th>decktypeid</th>\n",
       "      <th>...</th>\n",
       "      <th>numberofstories</th>\n",
       "      <th>fireplaceflag</th>\n",
       "      <th>structuretaxvaluedollarcnt</th>\n",
       "      <th>taxvaluedollarcnt</th>\n",
       "      <th>assessmentyear</th>\n",
       "      <th>landtaxvaluedollarcnt</th>\n",
       "      <th>taxamount</th>\n",
       "      <th>taxdelinquencyflag</th>\n",
       "      <th>taxdelinquencyyear</th>\n",
       "      <th>censustractandblock</th>\n",
       "    </tr>\n",
       "  </thead>\n",
       "  <tbody>\n",
       "    <tr>\n",
       "      <th>2985212</th>\n",
       "      <td>168176230</td>\n",
       "      <td>NaN</td>\n",
       "      <td>NaN</td>\n",
       "      <td>NaN</td>\n",
       "      <td>NaN</td>\n",
       "      <td>NaN</td>\n",
       "      <td>NaN</td>\n",
       "      <td>NaN</td>\n",
       "      <td>NaN</td>\n",
       "      <td>NaN</td>\n",
       "      <td>...</td>\n",
       "      <td>NaN</td>\n",
       "      <td>NaN</td>\n",
       "      <td>NaN</td>\n",
       "      <td>NaN</td>\n",
       "      <td>NaN</td>\n",
       "      <td>NaN</td>\n",
       "      <td>NaN</td>\n",
       "      <td>NaN</td>\n",
       "      <td>NaN</td>\n",
       "      <td>NaN</td>\n",
       "    </tr>\n",
       "    <tr>\n",
       "      <th>2985213</th>\n",
       "      <td>14273630</td>\n",
       "      <td>NaN</td>\n",
       "      <td>NaN</td>\n",
       "      <td>NaN</td>\n",
       "      <td>NaN</td>\n",
       "      <td>NaN</td>\n",
       "      <td>NaN</td>\n",
       "      <td>NaN</td>\n",
       "      <td>NaN</td>\n",
       "      <td>NaN</td>\n",
       "      <td>...</td>\n",
       "      <td>NaN</td>\n",
       "      <td>NaN</td>\n",
       "      <td>NaN</td>\n",
       "      <td>NaN</td>\n",
       "      <td>NaN</td>\n",
       "      <td>NaN</td>\n",
       "      <td>NaN</td>\n",
       "      <td>NaN</td>\n",
       "      <td>NaN</td>\n",
       "      <td>NaN</td>\n",
       "    </tr>\n",
       "    <tr>\n",
       "      <th>2985214</th>\n",
       "      <td>168040630</td>\n",
       "      <td>NaN</td>\n",
       "      <td>NaN</td>\n",
       "      <td>NaN</td>\n",
       "      <td>NaN</td>\n",
       "      <td>NaN</td>\n",
       "      <td>NaN</td>\n",
       "      <td>NaN</td>\n",
       "      <td>NaN</td>\n",
       "      <td>NaN</td>\n",
       "      <td>...</td>\n",
       "      <td>NaN</td>\n",
       "      <td>NaN</td>\n",
       "      <td>NaN</td>\n",
       "      <td>NaN</td>\n",
       "      <td>NaN</td>\n",
       "      <td>NaN</td>\n",
       "      <td>NaN</td>\n",
       "      <td>NaN</td>\n",
       "      <td>NaN</td>\n",
       "      <td>NaN</td>\n",
       "    </tr>\n",
       "    <tr>\n",
       "      <th>2985215</th>\n",
       "      <td>168040830</td>\n",
       "      <td>NaN</td>\n",
       "      <td>NaN</td>\n",
       "      <td>NaN</td>\n",
       "      <td>NaN</td>\n",
       "      <td>NaN</td>\n",
       "      <td>NaN</td>\n",
       "      <td>NaN</td>\n",
       "      <td>NaN</td>\n",
       "      <td>NaN</td>\n",
       "      <td>...</td>\n",
       "      <td>NaN</td>\n",
       "      <td>NaN</td>\n",
       "      <td>NaN</td>\n",
       "      <td>NaN</td>\n",
       "      <td>NaN</td>\n",
       "      <td>NaN</td>\n",
       "      <td>NaN</td>\n",
       "      <td>NaN</td>\n",
       "      <td>NaN</td>\n",
       "      <td>NaN</td>\n",
       "    </tr>\n",
       "    <tr>\n",
       "      <th>2985216</th>\n",
       "      <td>168040430</td>\n",
       "      <td>NaN</td>\n",
       "      <td>NaN</td>\n",
       "      <td>NaN</td>\n",
       "      <td>NaN</td>\n",
       "      <td>NaN</td>\n",
       "      <td>NaN</td>\n",
       "      <td>NaN</td>\n",
       "      <td>NaN</td>\n",
       "      <td>NaN</td>\n",
       "      <td>...</td>\n",
       "      <td>NaN</td>\n",
       "      <td>NaN</td>\n",
       "      <td>NaN</td>\n",
       "      <td>NaN</td>\n",
       "      <td>NaN</td>\n",
       "      <td>NaN</td>\n",
       "      <td>NaN</td>\n",
       "      <td>NaN</td>\n",
       "      <td>NaN</td>\n",
       "      <td>NaN</td>\n",
       "    </tr>\n",
       "  </tbody>\n",
       "</table>\n",
       "<p>5 rows × 58 columns</p>\n",
       "</div>"
      ],
      "text/plain": [
       "          parcelid  airconditioningtypeid  architecturalstyletypeid  \\\n",
       "2985212  168176230                    NaN                       NaN   \n",
       "2985213   14273630                    NaN                       NaN   \n",
       "2985214  168040630                    NaN                       NaN   \n",
       "2985215  168040830                    NaN                       NaN   \n",
       "2985216  168040430                    NaN                       NaN   \n",
       "\n",
       "         basementsqft  bathroomcnt  bedroomcnt  buildingclasstypeid  \\\n",
       "2985212           NaN          NaN         NaN                  NaN   \n",
       "2985213           NaN          NaN         NaN                  NaN   \n",
       "2985214           NaN          NaN         NaN                  NaN   \n",
       "2985215           NaN          NaN         NaN                  NaN   \n",
       "2985216           NaN          NaN         NaN                  NaN   \n",
       "\n",
       "         buildingqualitytypeid  calculatedbathnbr  decktypeid  \\\n",
       "2985212                    NaN                NaN         NaN   \n",
       "2985213                    NaN                NaN         NaN   \n",
       "2985214                    NaN                NaN         NaN   \n",
       "2985215                    NaN                NaN         NaN   \n",
       "2985216                    NaN                NaN         NaN   \n",
       "\n",
       "                ...           numberofstories  fireplaceflag  \\\n",
       "2985212         ...                       NaN            NaN   \n",
       "2985213         ...                       NaN            NaN   \n",
       "2985214         ...                       NaN            NaN   \n",
       "2985215         ...                       NaN            NaN   \n",
       "2985216         ...                       NaN            NaN   \n",
       "\n",
       "         structuretaxvaluedollarcnt  taxvaluedollarcnt  assessmentyear  \\\n",
       "2985212                         NaN                NaN             NaN   \n",
       "2985213                         NaN                NaN             NaN   \n",
       "2985214                         NaN                NaN             NaN   \n",
       "2985215                         NaN                NaN             NaN   \n",
       "2985216                         NaN                NaN             NaN   \n",
       "\n",
       "         landtaxvaluedollarcnt  taxamount  taxdelinquencyflag  \\\n",
       "2985212                    NaN        NaN                 NaN   \n",
       "2985213                    NaN        NaN                 NaN   \n",
       "2985214                    NaN        NaN                 NaN   \n",
       "2985215                    NaN        NaN                 NaN   \n",
       "2985216                    NaN        NaN                 NaN   \n",
       "\n",
       "         taxdelinquencyyear  censustractandblock  \n",
       "2985212                 NaN                  NaN  \n",
       "2985213                 NaN                  NaN  \n",
       "2985214                 NaN                  NaN  \n",
       "2985215                 NaN                  NaN  \n",
       "2985216                 NaN                  NaN  \n",
       "\n",
       "[5 rows x 58 columns]"
      ]
     },
     "execution_count": 3,
     "metadata": {},
     "output_type": "execute_result"
    }
   ],
   "source": [
    "property16 = pd.read_csv(\"zillow_data/properties_2016.csv\")\n",
    "print(property16.shape)\n",
    "property16.tail()"
   ]
  },
  {
   "cell_type": "markdown",
   "metadata": {},
   "source": [
    "## Fireplacecnt & Fireplaceflag in Proprerites"
   ]
  },
  {
   "cell_type": "markdown",
   "metadata": {},
   "source": [
    "- fireplacecnt의 89.5%의 값이 빈 값이다.\n",
    "- fireplaceflag의 99.8%의 값이 빈 값이다.\n",
    "- 두 값 모두 채워져 있는 튜플이 없기 때문에 서로의 값을 이용해서 채울 수 있는 값은 없다."
   ]
  },
  {
   "cell_type": "code",
   "execution_count": 5,
   "metadata": {},
   "outputs": [
    {
     "data": {
      "text/html": [
       "<div>\n",
       "<style scoped>\n",
       "    .dataframe tbody tr th:only-of-type {\n",
       "        vertical-align: middle;\n",
       "    }\n",
       "\n",
       "    .dataframe tbody tr th {\n",
       "        vertical-align: top;\n",
       "    }\n",
       "\n",
       "    .dataframe thead th {\n",
       "        text-align: right;\n",
       "    }\n",
       "</style>\n",
       "<table border=\"1\" class=\"dataframe\">\n",
       "  <thead>\n",
       "    <tr style=\"text-align: right;\">\n",
       "      <th></th>\n",
       "      <th>fireplacecnt</th>\n",
       "      <th>fireplaceflag</th>\n",
       "    </tr>\n",
       "  </thead>\n",
       "  <tbody>\n",
       "    <tr>\n",
       "      <th>2985212</th>\n",
       "      <td>NaN</td>\n",
       "      <td>NaN</td>\n",
       "    </tr>\n",
       "    <tr>\n",
       "      <th>2985213</th>\n",
       "      <td>NaN</td>\n",
       "      <td>NaN</td>\n",
       "    </tr>\n",
       "    <tr>\n",
       "      <th>2985214</th>\n",
       "      <td>NaN</td>\n",
       "      <td>NaN</td>\n",
       "    </tr>\n",
       "    <tr>\n",
       "      <th>2985215</th>\n",
       "      <td>NaN</td>\n",
       "      <td>NaN</td>\n",
       "    </tr>\n",
       "    <tr>\n",
       "      <th>2985216</th>\n",
       "      <td>NaN</td>\n",
       "      <td>NaN</td>\n",
       "    </tr>\n",
       "  </tbody>\n",
       "</table>\n",
       "</div>"
      ],
      "text/plain": [
       "         fireplacecnt fireplaceflag\n",
       "2985212           NaN           NaN\n",
       "2985213           NaN           NaN\n",
       "2985214           NaN           NaN\n",
       "2985215           NaN           NaN\n",
       "2985216           NaN           NaN"
      ]
     },
     "execution_count": 5,
     "metadata": {},
     "output_type": "execute_result"
    }
   ],
   "source": [
    "fire_prop16 = property16[[\"fireplacecnt\", \"fireplaceflag\"]]\n",
    "fire_prop16.tail()"
   ]
  },
  {
   "cell_type": "code",
   "execution_count": 9,
   "metadata": {},
   "outputs": [
    {
     "data": {
      "text/html": [
       "<div>\n",
       "<style scoped>\n",
       "    .dataframe tbody tr th:only-of-type {\n",
       "        vertical-align: middle;\n",
       "    }\n",
       "\n",
       "    .dataframe tbody tr th {\n",
       "        vertical-align: top;\n",
       "    }\n",
       "\n",
       "    .dataframe thead th {\n",
       "        text-align: right;\n",
       "    }\n",
       "</style>\n",
       "<table border=\"1\" class=\"dataframe\">\n",
       "  <thead>\n",
       "    <tr style=\"text-align: right;\">\n",
       "      <th></th>\n",
       "      <th>column_name</th>\n",
       "      <th>missing_count</th>\n",
       "    </tr>\n",
       "  </thead>\n",
       "  <tbody>\n",
       "    <tr>\n",
       "      <th>0</th>\n",
       "      <td>fireplacecnt</td>\n",
       "      <td>2672580</td>\n",
       "    </tr>\n",
       "    <tr>\n",
       "      <th>1</th>\n",
       "      <td>fireplaceflag</td>\n",
       "      <td>2980054</td>\n",
       "    </tr>\n",
       "  </tbody>\n",
       "</table>\n",
       "</div>"
      ],
      "text/plain": [
       "     column_name  missing_count\n",
       "0   fireplacecnt        2672580\n",
       "1  fireplaceflag        2980054"
      ]
     },
     "execution_count": 9,
     "metadata": {},
     "output_type": "execute_result"
    },
    {
     "data": {
      "image/png": "[encoded data removed]",
      "text/plain": [
       "<matplotlib.figure.Figure at 0x2e7cef43630>"
      ]
     },
     "metadata": {},
     "output_type": "display_data"
    }
   ],
   "source": [
    "missing_fire16 = fire_prop16.isnull().sum(axis=0).reset_index()\n",
    "missing_fire16.columns = ['column_name', 'missing_count']\n",
    "missing_fire16 = missing_fire16.sort_values(by='missing_count')\n",
    "\n",
    "fig, ax2 = pyplot.subplots(figsize=(5,2))\n",
    "missing_fire16.plot(\"column_name\", \"missing_count\", kind=\"barh\", color=sns.color_palette(\"deep\", 3), ax=ax2)\n",
    "\n",
    "missing_fire16"
   ]
  },
  {
   "cell_type": "code",
   "execution_count": 11,
   "metadata": {},
   "outputs": [
    {
     "data": {
      "text/html": [
       "<div>\n",
       "<style scoped>\n",
       "    .dataframe tbody tr th:only-of-type {\n",
       "        vertical-align: middle;\n",
       "    }\n",
       "\n",
       "    .dataframe tbody tr th {\n",
       "        vertical-align: top;\n",
       "    }\n",
       "\n",
       "    .dataframe thead th {\n",
       "        text-align: right;\n",
       "    }\n",
       "</style>\n",
       "<table border=\"1\" class=\"dataframe\">\n",
       "  <thead>\n",
       "    <tr style=\"text-align: right;\">\n",
       "      <th></th>\n",
       "      <th>column_name</th>\n",
       "      <th>missing_count</th>\n",
       "      <th>nan_rate</th>\n",
       "    </tr>\n",
       "  </thead>\n",
       "  <tbody>\n",
       "    <tr>\n",
       "      <th>0</th>\n",
       "      <td>fireplacecnt</td>\n",
       "      <td>2672580</td>\n",
       "      <td>0.895272</td>\n",
       "    </tr>\n",
       "    <tr>\n",
       "      <th>1</th>\n",
       "      <td>fireplaceflag</td>\n",
       "      <td>2980054</td>\n",
       "      <td>0.998270</td>\n",
       "    </tr>\n",
       "  </tbody>\n",
       "</table>\n",
       "</div>"
      ],
      "text/plain": [
       "     column_name  missing_count  nan_rate\n",
       "0   fireplacecnt        2672580  0.895272\n",
       "1  fireplaceflag        2980054  0.998270"
      ]
     },
     "execution_count": 11,
     "metadata": {},
     "output_type": "execute_result"
    }
   ],
   "source": [
    "missing_fire16[\"nan_rate\"] = missing_fire16[\"missing_count\"] / len(property16)\n",
    "missing_fire16"
   ]
  },
  {
   "cell_type": "code",
   "execution_count": 33,
   "metadata": {},
   "outputs": [
    {
     "data": {
      "text/plain": [
       "(1.0    269643\n",
       " 2.0     34407\n",
       " 3.0      7696\n",
       " 4.0       710\n",
       " 5.0       126\n",
       " 6.0        32\n",
       " 7.0        15\n",
       " 9.0         6\n",
       " 8.0         2\n",
       " Name: fireplacecnt, dtype: int64, 312637)"
      ]
     },
     "execution_count": 33,
     "metadata": {},
     "output_type": "execute_result"
    }
   ],
   "source": [
    "fire_prop16[\"fireplacecnt\"].value_counts(), fire_prop16[\"fireplacecnt\"].value_counts().sum()"
   ]
  },
  {
   "cell_type": "code",
   "execution_count": 13,
   "metadata": {},
   "outputs": [
    {
     "data": {
      "text/plain": [
       "True    5163\n",
       "Name: fireplaceflag, dtype: int64"
      ]
     },
     "execution_count": 13,
     "metadata": {},
     "output_type": "execute_result"
    }
   ],
   "source": [
    "fire_prop16[\"fireplaceflag\"].value_counts()"
   ]
  },
  {
   "cell_type": "code",
   "execution_count": 31,
   "metadata": {},
   "outputs": [
    {
     "data": {
      "text/plain": [
       "fireplacecnt          0\n",
       "fireplaceflag    312637\n",
       "dtype: int64"
      ]
     },
     "execution_count": 31,
     "metadata": {},
     "output_type": "execute_result"
    }
   ],
   "source": [
    "fire_prop16[~np.isnan(fire_prop16[\"fireplacecnt\"])].isna().sum()"
   ]
  },
  {
   "cell_type": "markdown",
   "metadata": {},
   "source": [
    "## Fireplacecnt & Fireplaceflag with Logerror"
   ]
  },
  {
   "cell_type": "code",
   "execution_count": 59,
   "metadata": {},
   "outputs": [
    {
     "data": {
      "text/html": [
       "<div>\n",
       "<style scoped>\n",
       "    .dataframe tbody tr th:only-of-type {\n",
       "        vertical-align: middle;\n",
       "    }\n",
       "\n",
       "    .dataframe tbody tr th {\n",
       "        vertical-align: top;\n",
       "    }\n",
       "\n",
       "    .dataframe thead th {\n",
       "        text-align: right;\n",
       "    }\n",
       "</style>\n",
       "<table border=\"1\" class=\"dataframe\">\n",
       "  <thead>\n",
       "    <tr style=\"text-align: right;\">\n",
       "      <th></th>\n",
       "      <th>logerror</th>\n",
       "      <th>transactiondate</th>\n",
       "      <th>airconditioningtypeid</th>\n",
       "      <th>architecturalstyletypeid</th>\n",
       "      <th>basementsqft</th>\n",
       "      <th>bathroomcnt</th>\n",
       "      <th>bedroomcnt</th>\n",
       "      <th>buildingclasstypeid</th>\n",
       "      <th>buildingqualitytypeid</th>\n",
       "      <th>calculatedbathnbr</th>\n",
       "      <th>...</th>\n",
       "      <th>numberofstories</th>\n",
       "      <th>fireplaceflag</th>\n",
       "      <th>structuretaxvaluedollarcnt</th>\n",
       "      <th>taxvaluedollarcnt</th>\n",
       "      <th>assessmentyear</th>\n",
       "      <th>landtaxvaluedollarcnt</th>\n",
       "      <th>taxamount</th>\n",
       "      <th>taxdelinquencyflag</th>\n",
       "      <th>taxdelinquencyyear</th>\n",
       "      <th>censustractandblock</th>\n",
       "    </tr>\n",
       "    <tr>\n",
       "      <th>parcelid</th>\n",
       "      <th></th>\n",
       "      <th></th>\n",
       "      <th></th>\n",
       "      <th></th>\n",
       "      <th></th>\n",
       "      <th></th>\n",
       "      <th></th>\n",
       "      <th></th>\n",
       "      <th></th>\n",
       "      <th></th>\n",
       "      <th></th>\n",
       "      <th></th>\n",
       "      <th></th>\n",
       "      <th></th>\n",
       "      <th></th>\n",
       "      <th></th>\n",
       "      <th></th>\n",
       "      <th></th>\n",
       "      <th></th>\n",
       "      <th></th>\n",
       "      <th></th>\n",
       "    </tr>\n",
       "  </thead>\n",
       "  <tbody>\n",
       "    <tr>\n",
       "      <th>10711738</th>\n",
       "      <td>0.0276</td>\n",
       "      <td>2016-08-02</td>\n",
       "      <td>1.0</td>\n",
       "      <td>NaN</td>\n",
       "      <td>NaN</td>\n",
       "      <td>3.0</td>\n",
       "      <td>4.0</td>\n",
       "      <td>NaN</td>\n",
       "      <td>4.0</td>\n",
       "      <td>3.0</td>\n",
       "      <td>...</td>\n",
       "      <td>NaN</td>\n",
       "      <td>NaN</td>\n",
       "      <td>245180.0</td>\n",
       "      <td>567112.0</td>\n",
       "      <td>2015.0</td>\n",
       "      <td>321932.0</td>\n",
       "      <td>7219.18</td>\n",
       "      <td>NaN</td>\n",
       "      <td>NaN</td>\n",
       "      <td>6.037113e+13</td>\n",
       "    </tr>\n",
       "    <tr>\n",
       "      <th>10711755</th>\n",
       "      <td>-0.0182</td>\n",
       "      <td>2016-08-02</td>\n",
       "      <td>1.0</td>\n",
       "      <td>NaN</td>\n",
       "      <td>NaN</td>\n",
       "      <td>3.0</td>\n",
       "      <td>3.0</td>\n",
       "      <td>NaN</td>\n",
       "      <td>4.0</td>\n",
       "      <td>3.0</td>\n",
       "      <td>...</td>\n",
       "      <td>NaN</td>\n",
       "      <td>NaN</td>\n",
       "      <td>254691.0</td>\n",
       "      <td>459844.0</td>\n",
       "      <td>2015.0</td>\n",
       "      <td>205153.0</td>\n",
       "      <td>6901.09</td>\n",
       "      <td>NaN</td>\n",
       "      <td>NaN</td>\n",
       "      <td>6.037113e+13</td>\n",
       "    </tr>\n",
       "    <tr>\n",
       "      <th>10711805</th>\n",
       "      <td>-0.1009</td>\n",
       "      <td>2016-05-03</td>\n",
       "      <td>1.0</td>\n",
       "      <td>NaN</td>\n",
       "      <td>NaN</td>\n",
       "      <td>2.0</td>\n",
       "      <td>3.0</td>\n",
       "      <td>NaN</td>\n",
       "      <td>4.0</td>\n",
       "      <td>2.0</td>\n",
       "      <td>...</td>\n",
       "      <td>NaN</td>\n",
       "      <td>NaN</td>\n",
       "      <td>235114.0</td>\n",
       "      <td>384787.0</td>\n",
       "      <td>2015.0</td>\n",
       "      <td>149673.0</td>\n",
       "      <td>4876.61</td>\n",
       "      <td>NaN</td>\n",
       "      <td>NaN</td>\n",
       "      <td>6.037113e+13</td>\n",
       "    </tr>\n",
       "    <tr>\n",
       "      <th>10711816</th>\n",
       "      <td>-0.0121</td>\n",
       "      <td>2016-04-05</td>\n",
       "      <td>1.0</td>\n",
       "      <td>NaN</td>\n",
       "      <td>NaN</td>\n",
       "      <td>2.0</td>\n",
       "      <td>4.0</td>\n",
       "      <td>NaN</td>\n",
       "      <td>4.0</td>\n",
       "      <td>2.0</td>\n",
       "      <td>...</td>\n",
       "      <td>NaN</td>\n",
       "      <td>NaN</td>\n",
       "      <td>262309.0</td>\n",
       "      <td>437176.0</td>\n",
       "      <td>2015.0</td>\n",
       "      <td>174867.0</td>\n",
       "      <td>5560.07</td>\n",
       "      <td>NaN</td>\n",
       "      <td>NaN</td>\n",
       "      <td>6.037113e+13</td>\n",
       "    </tr>\n",
       "    <tr>\n",
       "      <th>10711858</th>\n",
       "      <td>-0.0481</td>\n",
       "      <td>2016-07-15</td>\n",
       "      <td>1.0</td>\n",
       "      <td>NaN</td>\n",
       "      <td>NaN</td>\n",
       "      <td>2.0</td>\n",
       "      <td>4.0</td>\n",
       "      <td>NaN</td>\n",
       "      <td>4.0</td>\n",
       "      <td>2.0</td>\n",
       "      <td>...</td>\n",
       "      <td>NaN</td>\n",
       "      <td>NaN</td>\n",
       "      <td>232037.0</td>\n",
       "      <td>382055.0</td>\n",
       "      <td>2015.0</td>\n",
       "      <td>150018.0</td>\n",
       "      <td>4878.25</td>\n",
       "      <td>NaN</td>\n",
       "      <td>NaN</td>\n",
       "      <td>6.037113e+13</td>\n",
       "    </tr>\n",
       "  </tbody>\n",
       "</table>\n",
       "<p>5 rows × 59 columns</p>\n",
       "</div>"
      ],
      "text/plain": [
       "          logerror transactiondate  airconditioningtypeid  \\\n",
       "parcelid                                                    \n",
       "10711738    0.0276      2016-08-02                    1.0   \n",
       "10711755   -0.0182      2016-08-02                    1.0   \n",
       "10711805   -0.1009      2016-05-03                    1.0   \n",
       "10711816   -0.0121      2016-04-05                    1.0   \n",
       "10711858   -0.0481      2016-07-15                    1.0   \n",
       "\n",
       "          architecturalstyletypeid  basementsqft  bathroomcnt  bedroomcnt  \\\n",
       "parcelid                                                                    \n",
       "10711738                       NaN           NaN          3.0         4.0   \n",
       "10711755                       NaN           NaN          3.0         3.0   \n",
       "10711805                       NaN           NaN          2.0         3.0   \n",
       "10711816                       NaN           NaN          2.0         4.0   \n",
       "10711858                       NaN           NaN          2.0         4.0   \n",
       "\n",
       "          buildingclasstypeid  buildingqualitytypeid  calculatedbathnbr  \\\n",
       "parcelid                                                                  \n",
       "10711738                  NaN                    4.0                3.0   \n",
       "10711755                  NaN                    4.0                3.0   \n",
       "10711805                  NaN                    4.0                2.0   \n",
       "10711816                  NaN                    4.0                2.0   \n",
       "10711858                  NaN                    4.0                2.0   \n",
       "\n",
       "                 ...           numberofstories  fireplaceflag  \\\n",
       "parcelid         ...                                            \n",
       "10711738         ...                       NaN            NaN   \n",
       "10711755         ...                       NaN            NaN   \n",
       "10711805         ...                       NaN            NaN   \n",
       "10711816         ...                       NaN            NaN   \n",
       "10711858         ...                       NaN            NaN   \n",
       "\n",
       "          structuretaxvaluedollarcnt  taxvaluedollarcnt  assessmentyear  \\\n",
       "parcelid                                                                  \n",
       "10711738                    245180.0           567112.0          2015.0   \n",
       "10711755                    254691.0           459844.0          2015.0   \n",
       "10711805                    235114.0           384787.0          2015.0   \n",
       "10711816                    262309.0           437176.0          2015.0   \n",
       "10711858                    232037.0           382055.0          2015.0   \n",
       "\n",
       "          landtaxvaluedollarcnt  taxamount  taxdelinquencyflag  \\\n",
       "parcelid                                                         \n",
       "10711738               321932.0    7219.18                 NaN   \n",
       "10711755               205153.0    6901.09                 NaN   \n",
       "10711805               149673.0    4876.61                 NaN   \n",
       "10711816               174867.0    5560.07                 NaN   \n",
       "10711858               150018.0    4878.25                 NaN   \n",
       "\n",
       "          taxdelinquencyyear  censustractandblock  \n",
       "parcelid                                           \n",
       "10711738                 NaN         6.037113e+13  \n",
       "10711755                 NaN         6.037113e+13  \n",
       "10711805                 NaN         6.037113e+13  \n",
       "10711816                 NaN         6.037113e+13  \n",
       "10711858                 NaN         6.037113e+13  \n",
       "\n",
       "[5 rows x 59 columns]"
      ]
     },
     "execution_count": 59,
     "metadata": {},
     "output_type": "execute_result"
    }
   ],
   "source": [
    "new_train16 = train16.set_index('parcelid').join(property16.set_index('parcelid'))\n",
    "new_train16.head()"
   ]
  },
  {
   "cell_type": "markdown",
   "metadata": {},
   "source": [
    "### model - 1\n",
    "- Fireplacecnt, Fireplaceflag의 빈값을 모두 0.0으로 채운 카테고리화 하여 모델링"
   ]
  },
  {
   "cell_type": "code",
   "execution_count": 60,
   "metadata": {},
   "outputs": [],
   "source": [
    "new_train16[\"fireplaceflag\"] = new_train16[\"fireplaceflag\"].astype(float) # True/False -> 1.0/0.0"
   ]
  },
  {
   "cell_type": "code",
   "execution_count": 61,
   "metadata": {},
   "outputs": [
    {
     "data": {
      "text/plain": [
       "fireplacecnt     0\n",
       "fireplaceflag    0\n",
       "dtype: int64"
      ]
     },
     "execution_count": 61,
     "metadata": {},
     "output_type": "execute_result"
    }
   ],
   "source": [
    "new_train16.loc[np.isnan(new_train16[\"fireplacecnt\"]), \"fireplacecnt\"] = 0.0\n",
    "new_train16.loc[np.isnan(new_train16[\"fireplaceflag\"]), \"fireplaceflag\"] = 0.0\n",
    "new_train16[[\"fireplacecnt\", \"fireplaceflag\"]].isna().sum()"
   ]
  },
  {
   "cell_type": "code",
   "execution_count": 62,
   "metadata": {},
   "outputs": [
    {
     "data": {
      "text/html": [
       "<div>\n",
       "<style scoped>\n",
       "    .dataframe tbody tr th:only-of-type {\n",
       "        vertical-align: middle;\n",
       "    }\n",
       "\n",
       "    .dataframe tbody tr th {\n",
       "        vertical-align: top;\n",
       "    }\n",
       "\n",
       "    .dataframe thead th {\n",
       "        text-align: right;\n",
       "    }\n",
       "</style>\n",
       "<table border=\"1\" class=\"dataframe\">\n",
       "  <thead>\n",
       "    <tr style=\"text-align: right;\">\n",
       "      <th></th>\n",
       "      <th>fireplacecnt</th>\n",
       "      <th>fireplaceflag</th>\n",
       "      <th>logerror</th>\n",
       "    </tr>\n",
       "    <tr>\n",
       "      <th>parcelid</th>\n",
       "      <th></th>\n",
       "      <th></th>\n",
       "      <th></th>\n",
       "    </tr>\n",
       "  </thead>\n",
       "  <tbody>\n",
       "    <tr>\n",
       "      <th>10711738</th>\n",
       "      <td>0.0</td>\n",
       "      <td>0.0</td>\n",
       "      <td>0.0276</td>\n",
       "    </tr>\n",
       "    <tr>\n",
       "      <th>10711755</th>\n",
       "      <td>0.0</td>\n",
       "      <td>0.0</td>\n",
       "      <td>-0.0182</td>\n",
       "    </tr>\n",
       "    <tr>\n",
       "      <th>10711805</th>\n",
       "      <td>0.0</td>\n",
       "      <td>0.0</td>\n",
       "      <td>-0.1009</td>\n",
       "    </tr>\n",
       "    <tr>\n",
       "      <th>10711816</th>\n",
       "      <td>0.0</td>\n",
       "      <td>0.0</td>\n",
       "      <td>-0.0121</td>\n",
       "    </tr>\n",
       "    <tr>\n",
       "      <th>10711858</th>\n",
       "      <td>0.0</td>\n",
       "      <td>0.0</td>\n",
       "      <td>-0.0481</td>\n",
       "    </tr>\n",
       "  </tbody>\n",
       "</table>\n",
       "</div>"
      ],
      "text/plain": [
       "          fireplacecnt  fireplaceflag  logerror\n",
       "parcelid                                       \n",
       "10711738           0.0            0.0    0.0276\n",
       "10711755           0.0            0.0   -0.0182\n",
       "10711805           0.0            0.0   -0.1009\n",
       "10711816           0.0            0.0   -0.0121\n",
       "10711858           0.0            0.0   -0.0481"
      ]
     },
     "execution_count": 62,
     "metadata": {},
     "output_type": "execute_result"
    }
   ],
   "source": [
    "df = new_train16[[\"fireplacecnt\", \"fireplaceflag\", \"logerror\"]]\n",
    "df[[\"fireplacecnt\", \"fireplaceflag\"]].astype('category')\n",
    "df.head()"
   ]
  },
  {
   "cell_type": "code",
   "execution_count": 63,
   "metadata": {},
   "outputs": [
    {
     "name": "stdout",
     "output_type": "stream",
     "text": [
      "                            OLS Regression Results                            \n",
      "==============================================================================\n",
      "Dep. Variable:               logerror   R-squared:                       0.000\n",
      "Model:                            OLS   Adj. R-squared:                  0.000\n",
      "Method:                 Least Squares   F-statistic:                     1.833\n",
      "Date:                Mon, 02 Jul 2018   Prob (F-statistic):             0.0884\n",
      "Time:                        23:53:35   Log-Likelihood:                 36741.\n",
      "No. Observations:               90275   AIC:                        -7.347e+04\n",
      "Df Residuals:                   90268   BIC:                        -7.340e+04\n",
      "Df Model:                           6                                         \n",
      "Covariance Type:            nonrobust                                         \n",
      "===========================================================================================\n",
      "                              coef    std err          t      P>|t|      [0.025      0.975]\n",
      "-------------------------------------------------------------------------------------------\n",
      "Intercept                   0.0112      0.001     19.738      0.000       0.010       0.012\n",
      "C(fireplacecnt)[T.1.0]      0.0004      0.002      0.225      0.822      -0.003       0.004\n",
      "C(fireplacecnt)[T.2.0]      0.0104      0.005      2.125      0.034       0.001       0.020\n",
      "C(fireplacecnt)[T.3.0]      0.0169      0.009      1.855      0.064      -0.001       0.035\n",
      "C(fireplacecnt)[T.4.0]      0.0490      0.035      1.395      0.163      -0.020       0.118\n",
      "C(fireplacecnt)[T.5.0]      0.0948      0.093      1.019      0.308      -0.087       0.277\n",
      "C(fireplaceflag)[T.1.0]     0.0041      0.011      0.375      0.708      -0.017       0.025\n",
      "==============================================================================\n",
      "Omnibus:                    66168.782   Durbin-Watson:                   1.927\n",
      "Prob(Omnibus):                  0.000   Jarque-Bera (JB):         64974724.753\n",
      "Skew:                           2.169   Prob(JB):                         0.00\n",
      "Kurtosis:                     134.358   Cond. No.                         174.\n",
      "==============================================================================\n",
      "\n",
      "Warnings:\n",
      "[1] Standard Errors assume that the covariance matrix of the errors is correctly specified.\n"
     ]
    }
   ],
   "source": [
    "model_hvac16 = sm.OLS.from_formula(\"logerror ~  C(fireplacecnt) + C(fireplaceflag)\",df)\n",
    "result_hvac16 = model_hvac16.fit()\n",
    "print(result_hvac16.summary())"
   ]
  },
  {
   "cell_type": "markdown",
   "metadata": {},
   "source": [
    "### model - 2 \n",
    "- Fireplacecnt, Fireplaceflag의 모두 있다/없다(1.0/0.0)로 모델링"
   ]
  },
  {
   "cell_type": "code",
   "execution_count": 66,
   "metadata": {},
   "outputs": [
    {
     "data": {
      "text/html": [
       "<div>\n",
       "<style scoped>\n",
       "    .dataframe tbody tr th:only-of-type {\n",
       "        vertical-align: middle;\n",
       "    }\n",
       "\n",
       "    .dataframe tbody tr th {\n",
       "        vertical-align: top;\n",
       "    }\n",
       "\n",
       "    .dataframe thead th {\n",
       "        text-align: right;\n",
       "    }\n",
       "</style>\n",
       "<table border=\"1\" class=\"dataframe\">\n",
       "  <thead>\n",
       "    <tr style=\"text-align: right;\">\n",
       "      <th></th>\n",
       "      <th>logerror</th>\n",
       "      <th>transactiondate</th>\n",
       "      <th>airconditioningtypeid</th>\n",
       "      <th>architecturalstyletypeid</th>\n",
       "      <th>basementsqft</th>\n",
       "      <th>bathroomcnt</th>\n",
       "      <th>bedroomcnt</th>\n",
       "      <th>buildingclasstypeid</th>\n",
       "      <th>buildingqualitytypeid</th>\n",
       "      <th>calculatedbathnbr</th>\n",
       "      <th>...</th>\n",
       "      <th>numberofstories</th>\n",
       "      <th>fireplaceflag</th>\n",
       "      <th>structuretaxvaluedollarcnt</th>\n",
       "      <th>taxvaluedollarcnt</th>\n",
       "      <th>assessmentyear</th>\n",
       "      <th>landtaxvaluedollarcnt</th>\n",
       "      <th>taxamount</th>\n",
       "      <th>taxdelinquencyflag</th>\n",
       "      <th>taxdelinquencyyear</th>\n",
       "      <th>censustractandblock</th>\n",
       "    </tr>\n",
       "    <tr>\n",
       "      <th>parcelid</th>\n",
       "      <th></th>\n",
       "      <th></th>\n",
       "      <th></th>\n",
       "      <th></th>\n",
       "      <th></th>\n",
       "      <th></th>\n",
       "      <th></th>\n",
       "      <th></th>\n",
       "      <th></th>\n",
       "      <th></th>\n",
       "      <th></th>\n",
       "      <th></th>\n",
       "      <th></th>\n",
       "      <th></th>\n",
       "      <th></th>\n",
       "      <th></th>\n",
       "      <th></th>\n",
       "      <th></th>\n",
       "      <th></th>\n",
       "      <th></th>\n",
       "      <th></th>\n",
       "    </tr>\n",
       "  </thead>\n",
       "  <tbody>\n",
       "    <tr>\n",
       "      <th>10711738</th>\n",
       "      <td>0.0276</td>\n",
       "      <td>2016-08-02</td>\n",
       "      <td>1.0</td>\n",
       "      <td>NaN</td>\n",
       "      <td>NaN</td>\n",
       "      <td>3.0</td>\n",
       "      <td>4.0</td>\n",
       "      <td>NaN</td>\n",
       "      <td>4.0</td>\n",
       "      <td>3.0</td>\n",
       "      <td>...</td>\n",
       "      <td>NaN</td>\n",
       "      <td>NaN</td>\n",
       "      <td>245180.0</td>\n",
       "      <td>567112.0</td>\n",
       "      <td>2015.0</td>\n",
       "      <td>321932.0</td>\n",
       "      <td>7219.18</td>\n",
       "      <td>NaN</td>\n",
       "      <td>NaN</td>\n",
       "      <td>6.037113e+13</td>\n",
       "    </tr>\n",
       "    <tr>\n",
       "      <th>10711755</th>\n",
       "      <td>-0.0182</td>\n",
       "      <td>2016-08-02</td>\n",
       "      <td>1.0</td>\n",
       "      <td>NaN</td>\n",
       "      <td>NaN</td>\n",
       "      <td>3.0</td>\n",
       "      <td>3.0</td>\n",
       "      <td>NaN</td>\n",
       "      <td>4.0</td>\n",
       "      <td>3.0</td>\n",
       "      <td>...</td>\n",
       "      <td>NaN</td>\n",
       "      <td>NaN</td>\n",
       "      <td>254691.0</td>\n",
       "      <td>459844.0</td>\n",
       "      <td>2015.0</td>\n",
       "      <td>205153.0</td>\n",
       "      <td>6901.09</td>\n",
       "      <td>NaN</td>\n",
       "      <td>NaN</td>\n",
       "      <td>6.037113e+13</td>\n",
       "    </tr>\n",
       "    <tr>\n",
       "      <th>10711805</th>\n",
       "      <td>-0.1009</td>\n",
       "      <td>2016-05-03</td>\n",
       "      <td>1.0</td>\n",
       "      <td>NaN</td>\n",
       "      <td>NaN</td>\n",
       "      <td>2.0</td>\n",
       "      <td>3.0</td>\n",
       "      <td>NaN</td>\n",
       "      <td>4.0</td>\n",
       "      <td>2.0</td>\n",
       "      <td>...</td>\n",
       "      <td>NaN</td>\n",
       "      <td>NaN</td>\n",
       "      <td>235114.0</td>\n",
       "      <td>384787.0</td>\n",
       "      <td>2015.0</td>\n",
       "      <td>149673.0</td>\n",
       "      <td>4876.61</td>\n",
       "      <td>NaN</td>\n",
       "      <td>NaN</td>\n",
       "      <td>6.037113e+13</td>\n",
       "    </tr>\n",
       "    <tr>\n",
       "      <th>10711816</th>\n",
       "      <td>-0.0121</td>\n",
       "      <td>2016-04-05</td>\n",
       "      <td>1.0</td>\n",
       "      <td>NaN</td>\n",
       "      <td>NaN</td>\n",
       "      <td>2.0</td>\n",
       "      <td>4.0</td>\n",
       "      <td>NaN</td>\n",
       "      <td>4.0</td>\n",
       "      <td>2.0</td>\n",
       "      <td>...</td>\n",
       "      <td>NaN</td>\n",
       "      <td>NaN</td>\n",
       "      <td>262309.0</td>\n",
       "      <td>437176.0</td>\n",
       "      <td>2015.0</td>\n",
       "      <td>174867.0</td>\n",
       "      <td>5560.07</td>\n",
       "      <td>NaN</td>\n",
       "      <td>NaN</td>\n",
       "      <td>6.037113e+13</td>\n",
       "    </tr>\n",
       "    <tr>\n",
       "      <th>10711858</th>\n",
       "      <td>-0.0481</td>\n",
       "      <td>2016-07-15</td>\n",
       "      <td>1.0</td>\n",
       "      <td>NaN</td>\n",
       "      <td>NaN</td>\n",
       "      <td>2.0</td>\n",
       "      <td>4.0</td>\n",
       "      <td>NaN</td>\n",
       "      <td>4.0</td>\n",
       "      <td>2.0</td>\n",
       "      <td>...</td>\n",
       "      <td>NaN</td>\n",
       "      <td>NaN</td>\n",
       "      <td>232037.0</td>\n",
       "      <td>382055.0</td>\n",
       "      <td>2015.0</td>\n",
       "      <td>150018.0</td>\n",
       "      <td>4878.25</td>\n",
       "      <td>NaN</td>\n",
       "      <td>NaN</td>\n",
       "      <td>6.037113e+13</td>\n",
       "    </tr>\n",
       "  </tbody>\n",
       "</table>\n",
       "<p>5 rows × 59 columns</p>\n",
       "</div>"
      ],
      "text/plain": [
       "          logerror transactiondate  airconditioningtypeid  \\\n",
       "parcelid                                                    \n",
       "10711738    0.0276      2016-08-02                    1.0   \n",
       "10711755   -0.0182      2016-08-02                    1.0   \n",
       "10711805   -0.1009      2016-05-03                    1.0   \n",
       "10711816   -0.0121      2016-04-05                    1.0   \n",
       "10711858   -0.0481      2016-07-15                    1.0   \n",
       "\n",
       "          architecturalstyletypeid  basementsqft  bathroomcnt  bedroomcnt  \\\n",
       "parcelid                                                                    \n",
       "10711738                       NaN           NaN          3.0         4.0   \n",
       "10711755                       NaN           NaN          3.0         3.0   \n",
       "10711805                       NaN           NaN          2.0         3.0   \n",
       "10711816                       NaN           NaN          2.0         4.0   \n",
       "10711858                       NaN           NaN          2.0         4.0   \n",
       "\n",
       "          buildingclasstypeid  buildingqualitytypeid  calculatedbathnbr  \\\n",
       "parcelid                                                                  \n",
       "10711738                  NaN                    4.0                3.0   \n",
       "10711755                  NaN                    4.0                3.0   \n",
       "10711805                  NaN                    4.0                2.0   \n",
       "10711816                  NaN                    4.0                2.0   \n",
       "10711858                  NaN                    4.0                2.0   \n",
       "\n",
       "                 ...           numberofstories  fireplaceflag  \\\n",
       "parcelid         ...                                            \n",
       "10711738         ...                       NaN            NaN   \n",
       "10711755         ...                       NaN            NaN   \n",
       "10711805         ...                       NaN            NaN   \n",
       "10711816         ...                       NaN            NaN   \n",
       "10711858         ...                       NaN            NaN   \n",
       "\n",
       "          structuretaxvaluedollarcnt  taxvaluedollarcnt  assessmentyear  \\\n",
       "parcelid                                                                  \n",
       "10711738                    245180.0           567112.0          2015.0   \n",
       "10711755                    254691.0           459844.0          2015.0   \n",
       "10711805                    235114.0           384787.0          2015.0   \n",
       "10711816                    262309.0           437176.0          2015.0   \n",
       "10711858                    232037.0           382055.0          2015.0   \n",
       "\n",
       "          landtaxvaluedollarcnt  taxamount  taxdelinquencyflag  \\\n",
       "parcelid                                                         \n",
       "10711738               321932.0    7219.18                 NaN   \n",
       "10711755               205153.0    6901.09                 NaN   \n",
       "10711805               149673.0    4876.61                 NaN   \n",
       "10711816               174867.0    5560.07                 NaN   \n",
       "10711858               150018.0    4878.25                 NaN   \n",
       "\n",
       "          taxdelinquencyyear  censustractandblock  \n",
       "parcelid                                           \n",
       "10711738                 NaN         6.037113e+13  \n",
       "10711755                 NaN         6.037113e+13  \n",
       "10711805                 NaN         6.037113e+13  \n",
       "10711816                 NaN         6.037113e+13  \n",
       "10711858                 NaN         6.037113e+13  \n",
       "\n",
       "[5 rows x 59 columns]"
      ]
     },
     "execution_count": 66,
     "metadata": {},
     "output_type": "execute_result"
    }
   ],
   "source": [
    "new_train16 = train16.set_index('parcelid').join(property16.set_index('parcelid'))\n",
    "new_train16.head()"
   ]
  },
  {
   "cell_type": "code",
   "execution_count": 67,
   "metadata": {
    "collapsed": true
   },
   "outputs": [],
   "source": [
    "new_train16[\"fireplaceflag\"] = new_train16[\"fireplaceflag\"].astype(float) # True/False -> 1.0/0.0"
   ]
  },
  {
   "cell_type": "code",
   "execution_count": 68,
   "metadata": {},
   "outputs": [
    {
     "data": {
      "text/plain": [
       "fireplacecnt     0\n",
       "fireplaceflag    0\n",
       "dtype: int64"
      ]
     },
     "execution_count": 68,
     "metadata": {},
     "output_type": "execute_result"
    }
   ],
   "source": [
    "new_train16.loc[~np.isnan(new_train16[\"fireplacecnt\"]), \"fireplacecnt\"] = 1.0\n",
    "new_train16.loc[~np.isnan(new_train16[\"fireplaceflag\"]) , \"fireplaceflag\"] = 1.0\n",
    "new_train16.loc[np.isnan(new_train16[\"fireplacecnt\"]), \"fireplacecnt\"] = 0.0\n",
    "new_train16.loc[np.isnan(new_train16[\"fireplaceflag\"]), \"fireplaceflag\"] = 0.0\n",
    "\n",
    "new_train16[[\"fireplacecnt\", \"fireplaceflag\"]].isna().sum()"
   ]
  },
  {
   "cell_type": "code",
   "execution_count": 69,
   "metadata": {
    "collapsed": true
   },
   "outputs": [],
   "source": [
    "dfX0 = new_train16[[\"fireplacecnt\", \"fireplaceflag\"]]\n",
    "dfX = sm.add_constant(dfX0)\n",
    "dfy = new_train16[[\"logerror\"]]\n",
    "df = pd.concat([dfX, dfy], axis=1)"
   ]
  },
  {
   "cell_type": "code",
   "execution_count": 70,
   "metadata": {},
   "outputs": [
    {
     "name": "stdout",
     "output_type": "stream",
     "text": [
      "                            OLS Regression Results                            \n",
      "==============================================================================\n",
      "Dep. Variable:               logerror   R-squared:                       0.000\n",
      "Model:                            OLS   Adj. R-squared:                 -0.000\n",
      "Method:                 Least Squares   F-statistic:                    0.8906\n",
      "Date:                Mon, 02 Jul 2018   Prob (F-statistic):              0.410\n",
      "Time:                        23:55:43   Log-Likelihood:                 36736.\n",
      "No. Observations:               90275   AIC:                        -7.347e+04\n",
      "Df Residuals:                   90272   BIC:                        -7.344e+04\n",
      "Df Model:                           2                                         \n",
      "Covariance Type:            nonrobust                                         \n",
      "=================================================================================\n",
      "                    coef    std err          t      P>|t|      [0.025      0.975]\n",
      "---------------------------------------------------------------------------------\n",
      "const             0.0112      0.001     19.737      0.000       0.010       0.012\n",
      "fireplacecnt      0.0022      0.002      1.287      0.198      -0.001       0.006\n",
      "fireplaceflag     0.0041      0.011      0.375      0.708      -0.017       0.025\n",
      "==============================================================================\n",
      "Omnibus:                    66184.436   Durbin-Watson:                   1.927\n",
      "Prob(Omnibus):                  0.000   Jarque-Bera (JB):         65000168.868\n",
      "Skew:                           2.170   Prob(JB):                         0.00\n",
      "Kurtosis:                     134.384   Cond. No.                         20.3\n",
      "==============================================================================\n",
      "\n",
      "Warnings:\n",
      "[1] Standard Errors assume that the covariance matrix of the errors is correctly specified.\n"
     ]
    }
   ],
   "source": [
    "model = sm.OLS(dfy, dfX)\n",
    "result = model.fit()\n",
    "print(result.summary())"
   ]
  },
  {
   "cell_type": "markdown",
   "metadata": {},
   "source": [
    "## Visualization"
   ]
  },
  {
   "cell_type": "markdown",
   "metadata": {},
   "source": [
    "#### original"
   ]
  },
  {
   "cell_type": "code",
   "execution_count": 57,
   "metadata": {},
   "outputs": [
    {
     "data": {
      "text/plain": [
       "<matplotlib.collections.PathCollection at 0x2e7d5dfbda0>"
      ]
     },
     "execution_count": 57,
     "metadata": {},
     "output_type": "execute_result"
    },
    {
     "data": {
      "image/png": "[encoded data removed]",
      "text/plain": [
       "<matplotlib.figure.Figure at 0x2e7cf5b6438>"
      ]
     },
     "metadata": {},
     "output_type": "display_data"
    }
   ],
   "source": [
    "pyplot.scatter(fire_prop16[\"fireplacecnt\"], fire_prop16[\"fireplaceflag\"])"
   ]
  },
  {
   "cell_type": "code",
   "execution_count": 58,
   "metadata": {},
   "outputs": [
    {
     "data": {
      "text/plain": [
       "<matplotlib.axes._subplots.AxesSubplot at 0x2e7d703c588>"
      ]
     },
     "execution_count": 58,
     "metadata": {},
     "output_type": "execute_result"
    },
    {
     "data": {
      "image/png": "[encoded data removed]",
      "text/plain": [
       "<matplotlib.figure.Figure at 0x2e7cf0ec4a8>"
      ]
     },
     "metadata": {},
     "output_type": "display_data"
    }
   ],
   "source": [
    "sns.stripplot(x=\"fireplacecnt\", y=\"fireplaceflag\", data=fire_prop16, jitter=True, color=\"0.4\")"
   ]
  },
  {
   "cell_type": "markdown",
   "metadata": {},
   "source": [
    "#### model - 1"
   ]
  },
  {
   "cell_type": "code",
   "execution_count": 64,
   "metadata": {},
   "outputs": [
    {
     "data": {
      "text/plain": [
       "<matplotlib.collections.PathCollection at 0x2e7d3bef828>"
      ]
     },
     "execution_count": 64,
     "metadata": {},
     "output_type": "execute_result"
    },
    {
     "data": {
      "image/png": "[encoded data removed]",
      "text/plain": [
       "<matplotlib.figure.Figure at 0x2e7cf4d99b0>"
      ]
     },
     "metadata": {},
     "output_type": "display_data"
    }
   ],
   "source": [
    "pyplot.scatter(new_train16[\"fireplacecnt\"], new_train16[\"fireplaceflag\"])"
   ]
  },
  {
   "cell_type": "code",
   "execution_count": 65,
   "metadata": {},
   "outputs": [
    {
     "data": {
      "text/plain": [
       "<matplotlib.axes._subplots.AxesSubplot at 0x2e7d3c06470>"
      ]
     },
     "execution_count": 65,
     "metadata": {},
     "output_type": "execute_result"
    },
    {
     "data": {
      "image/png": "[encoded data removed]",
      "text/plain": [
       "<matplotlib.figure.Figure at 0x2e7cf5b8080>"
      ]
     },
     "metadata": {},
     "output_type": "display_data"
    }
   ],
   "source": [
    "sns.stripplot(x=\"fireplacecnt\", y=\"fireplaceflag\", data=new_train16, jitter=True, color=\"0.4\")"
   ]
  },
  {
   "cell_type": "markdown",
   "metadata": {},
   "source": [
    "#### model - 2 "
   ]
  },
  {
   "cell_type": "code",
   "execution_count": 72,
   "metadata": {},
   "outputs": [
    {
     "data": {
      "text/plain": [
       "<matplotlib.collections.PathCollection at 0x2e7d3db3da0>"
      ]
     },
     "execution_count": 72,
     "metadata": {},
     "output_type": "execute_result"
    },
    {
     "data": {
      "image/png": "[encoded data removed]",
      "text/plain": [
       "<matplotlib.figure.Figure at 0x2e7d3e338d0>"
      ]
     },
     "metadata": {},
     "output_type": "display_data"
    }
   ],
   "source": [
    "pyplot.scatter(new_train16[\"fireplacecnt\"], new_train16[\"fireplaceflag\"])"
   ]
  },
  {
   "cell_type": "code",
   "execution_count": 73,
   "metadata": {},
   "outputs": [
    {
     "data": {
      "text/plain": [
       "<matplotlib.axes._subplots.AxesSubplot at 0x2e7d3dbba58>"
      ]
     },
     "execution_count": 73,
     "metadata": {},
     "output_type": "execute_result"
    },
    {
     "data": {
      "image/png": "[encoded data removed]",
      "text/plain": [
       "<matplotlib.figure.Figure at 0x2e7d5987cc0>"
      ]
     },
     "metadata": {},
     "output_type": "display_data"
    }
   ],
   "source": [
    "sns.stripplot(x=\"fireplacecnt\", y=\"fireplaceflag\", data=new_train16, jitter=True, color=\"0.4\")"
   ]
  },
  {
   "cell_type": "code",
   "execution_count": null,
   "metadata": {
    "collapsed": true
   },
   "outputs": [],
   "source": []
  }
 ],
 "metadata": {
  "kernelspec": {
   "display_name": "Python 3",
   "language": "python",
   "name": "python3"
  },
  "language_info": {
   "codemirror_mode": {
    "name": "ipython",
    "version": 3
   },
   "file_extension": ".py",
   "mimetype": "text/x-python",
   "name": "python",
   "nbconvert_exporter": "python",
   "pygments_lexer": "ipython3",
   "version": "3.7.0"
  }
 },
 "nbformat": 4,
 "nbformat_minor": 2
}
