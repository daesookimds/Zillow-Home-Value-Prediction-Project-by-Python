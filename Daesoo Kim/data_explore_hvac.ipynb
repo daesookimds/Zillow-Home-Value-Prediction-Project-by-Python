{
 "cells": [
  {
   "cell_type": "code",
   "execution_count": 32,
   "metadata": {},
   "outputs": [],
   "source": [
    "from matplotlib import pyplot\n",
    "import matplotlib as plt\n",
    "import pandas as pd\n",
    "import numpy as np\n",
    "import seaborn as sns\n",
    "import statsmodels.api as sm\n",
    "\n",
    "%matplotlib inline"
   ]
  },
  {
   "cell_type": "code",
   "execution_count": 2,
   "metadata": {},
   "outputs": [
    {
     "name": "stdout",
     "output_type": "stream",
     "text": [
      "(90275, 3)\n"
     ]
    },
    {
     "data": {
      "text/html": [
       "<div>\n",
       "<style scoped>\n",
       "    .dataframe tbody tr th:only-of-type {\n",
       "        vertical-align: middle;\n",
       "    }\n",
       "\n",
       "    .dataframe tbody tr th {\n",
       "        vertical-align: top;\n",
       "    }\n",
       "\n",
       "    .dataframe thead th {\n",
       "        text-align: right;\n",
       "    }\n",
       "</style>\n",
       "<table border=\"1\" class=\"dataframe\">\n",
       "  <thead>\n",
       "    <tr style=\"text-align: right;\">\n",
       "      <th></th>\n",
       "      <th>parcelid</th>\n",
       "      <th>logerror</th>\n",
       "      <th>transactiondate</th>\n",
       "    </tr>\n",
       "  </thead>\n",
       "  <tbody>\n",
       "    <tr>\n",
       "      <th>90270</th>\n",
       "      <td>10774160</td>\n",
       "      <td>-0.0356</td>\n",
       "      <td>2016-12-30</td>\n",
       "    </tr>\n",
       "    <tr>\n",
       "      <th>90271</th>\n",
       "      <td>12046695</td>\n",
       "      <td>0.0070</td>\n",
       "      <td>2016-12-30</td>\n",
       "    </tr>\n",
       "    <tr>\n",
       "      <th>90272</th>\n",
       "      <td>12995401</td>\n",
       "      <td>-0.2679</td>\n",
       "      <td>2016-12-30</td>\n",
       "    </tr>\n",
       "    <tr>\n",
       "      <th>90273</th>\n",
       "      <td>11402105</td>\n",
       "      <td>0.0602</td>\n",
       "      <td>2016-12-30</td>\n",
       "    </tr>\n",
       "    <tr>\n",
       "      <th>90274</th>\n",
       "      <td>12566293</td>\n",
       "      <td>0.4207</td>\n",
       "      <td>2016-12-30</td>\n",
       "    </tr>\n",
       "  </tbody>\n",
       "</table>\n",
       "</div>"
      ],
      "text/plain": [
       "       parcelid  logerror transactiondate\n",
       "90270  10774160   -0.0356      2016-12-30\n",
       "90271  12046695    0.0070      2016-12-30\n",
       "90272  12995401   -0.2679      2016-12-30\n",
       "90273  11402105    0.0602      2016-12-30\n",
       "90274  12566293    0.4207      2016-12-30"
      ]
     },
     "execution_count": 2,
     "metadata": {},
     "output_type": "execute_result"
    }
   ],
   "source": [
    "train16 = pd.read_csv(\"zillow_data/train_2016_v2.csv\", parse_dates=[\"transactiondate\"])\n",
    "print(train16.shape)\n",
    "train16.tail()"
   ]
  },
  {
   "cell_type": "code",
   "execution_count": 3,
   "metadata": {},
   "outputs": [
    {
     "name": "stderr",
     "output_type": "stream",
     "text": [
      "C:\\Users\\USER\\Anaconda3\\lib\\site-packages\\IPython\\core\\interactiveshell.py:2698: DtypeWarning: Columns (22,32,34,49,55) have mixed types. Specify dtype option on import or set low_memory=False.\n",
      "  interactivity=interactivity, compiler=compiler, result=result)\n"
     ]
    },
    {
     "name": "stdout",
     "output_type": "stream",
     "text": [
      "(2985217, 58)\n"
     ]
    },
    {
     "data": {
      "text/html": [
       "<div>\n",
       "<style scoped>\n",
       "    .dataframe tbody tr th:only-of-type {\n",
       "        vertical-align: middle;\n",
       "    }\n",
       "\n",
       "    .dataframe tbody tr th {\n",
       "        vertical-align: top;\n",
       "    }\n",
       "\n",
       "    .dataframe thead th {\n",
       "        text-align: right;\n",
       "    }\n",
       "</style>\n",
       "<table border=\"1\" class=\"dataframe\">\n",
       "  <thead>\n",
       "    <tr style=\"text-align: right;\">\n",
       "      <th></th>\n",
       "      <th>parcelid</th>\n",
       "      <th>airconditioningtypeid</th>\n",
       "      <th>architecturalstyletypeid</th>\n",
       "      <th>basementsqft</th>\n",
       "      <th>bathroomcnt</th>\n",
       "      <th>bedroomcnt</th>\n",
       "      <th>buildingclasstypeid</th>\n",
       "      <th>buildingqualitytypeid</th>\n",
       "      <th>calculatedbathnbr</th>\n",
       "      <th>decktypeid</th>\n",
       "      <th>...</th>\n",
       "      <th>numberofstories</th>\n",
       "      <th>fireplaceflag</th>\n",
       "      <th>structuretaxvaluedollarcnt</th>\n",
       "      <th>taxvaluedollarcnt</th>\n",
       "      <th>assessmentyear</th>\n",
       "      <th>landtaxvaluedollarcnt</th>\n",
       "      <th>taxamount</th>\n",
       "      <th>taxdelinquencyflag</th>\n",
       "      <th>taxdelinquencyyear</th>\n",
       "      <th>censustractandblock</th>\n",
       "    </tr>\n",
       "  </thead>\n",
       "  <tbody>\n",
       "    <tr>\n",
       "      <th>2985212</th>\n",
       "      <td>168176230</td>\n",
       "      <td>NaN</td>\n",
       "      <td>NaN</td>\n",
       "      <td>NaN</td>\n",
       "      <td>NaN</td>\n",
       "      <td>NaN</td>\n",
       "      <td>NaN</td>\n",
       "      <td>NaN</td>\n",
       "      <td>NaN</td>\n",
       "      <td>NaN</td>\n",
       "      <td>...</td>\n",
       "      <td>NaN</td>\n",
       "      <td>NaN</td>\n",
       "      <td>NaN</td>\n",
       "      <td>NaN</td>\n",
       "      <td>NaN</td>\n",
       "      <td>NaN</td>\n",
       "      <td>NaN</td>\n",
       "      <td>NaN</td>\n",
       "      <td>NaN</td>\n",
       "      <td>NaN</td>\n",
       "    </tr>\n",
       "    <tr>\n",
       "      <th>2985213</th>\n",
       "      <td>14273630</td>\n",
       "      <td>NaN</td>\n",
       "      <td>NaN</td>\n",
       "      <td>NaN</td>\n",
       "      <td>NaN</td>\n",
       "      <td>NaN</td>\n",
       "      <td>NaN</td>\n",
       "      <td>NaN</td>\n",
       "      <td>NaN</td>\n",
       "      <td>NaN</td>\n",
       "      <td>...</td>\n",
       "      <td>NaN</td>\n",
       "      <td>NaN</td>\n",
       "      <td>NaN</td>\n",
       "      <td>NaN</td>\n",
       "      <td>NaN</td>\n",
       "      <td>NaN</td>\n",
       "      <td>NaN</td>\n",
       "      <td>NaN</td>\n",
       "      <td>NaN</td>\n",
       "      <td>NaN</td>\n",
       "    </tr>\n",
       "    <tr>\n",
       "      <th>2985214</th>\n",
       "      <td>168040630</td>\n",
       "      <td>NaN</td>\n",
       "      <td>NaN</td>\n",
       "      <td>NaN</td>\n",
       "      <td>NaN</td>\n",
       "      <td>NaN</td>\n",
       "      <td>NaN</td>\n",
       "      <td>NaN</td>\n",
       "      <td>NaN</td>\n",
       "      <td>NaN</td>\n",
       "      <td>...</td>\n",
       "      <td>NaN</td>\n",
       "      <td>NaN</td>\n",
       "      <td>NaN</td>\n",
       "      <td>NaN</td>\n",
       "      <td>NaN</td>\n",
       "      <td>NaN</td>\n",
       "      <td>NaN</td>\n",
       "      <td>NaN</td>\n",
       "      <td>NaN</td>\n",
       "      <td>NaN</td>\n",
       "    </tr>\n",
       "    <tr>\n",
       "      <th>2985215</th>\n",
       "      <td>168040830</td>\n",
       "      <td>NaN</td>\n",
       "      <td>NaN</td>\n",
       "      <td>NaN</td>\n",
       "      <td>NaN</td>\n",
       "      <td>NaN</td>\n",
       "      <td>NaN</td>\n",
       "      <td>NaN</td>\n",
       "      <td>NaN</td>\n",
       "      <td>NaN</td>\n",
       "      <td>...</td>\n",
       "      <td>NaN</td>\n",
       "      <td>NaN</td>\n",
       "      <td>NaN</td>\n",
       "      <td>NaN</td>\n",
       "      <td>NaN</td>\n",
       "      <td>NaN</td>\n",
       "      <td>NaN</td>\n",
       "      <td>NaN</td>\n",
       "      <td>NaN</td>\n",
       "      <td>NaN</td>\n",
       "    </tr>\n",
       "    <tr>\n",
       "      <th>2985216</th>\n",
       "      <td>168040430</td>\n",
       "      <td>NaN</td>\n",
       "      <td>NaN</td>\n",
       "      <td>NaN</td>\n",
       "      <td>NaN</td>\n",
       "      <td>NaN</td>\n",
       "      <td>NaN</td>\n",
       "      <td>NaN</td>\n",
       "      <td>NaN</td>\n",
       "      <td>NaN</td>\n",
       "      <td>...</td>\n",
       "      <td>NaN</td>\n",
       "      <td>NaN</td>\n",
       "      <td>NaN</td>\n",
       "      <td>NaN</td>\n",
       "      <td>NaN</td>\n",
       "      <td>NaN</td>\n",
       "      <td>NaN</td>\n",
       "      <td>NaN</td>\n",
       "      <td>NaN</td>\n",
       "      <td>NaN</td>\n",
       "    </tr>\n",
       "  </tbody>\n",
       "</table>\n",
       "<p>5 rows × 58 columns</p>\n",
       "</div>"
      ],
      "text/plain": [
       "          parcelid  airconditioningtypeid  architecturalstyletypeid  \\\n",
       "2985212  168176230                    NaN                       NaN   \n",
       "2985213   14273630                    NaN                       NaN   \n",
       "2985214  168040630                    NaN                       NaN   \n",
       "2985215  168040830                    NaN                       NaN   \n",
       "2985216  168040430                    NaN                       NaN   \n",
       "\n",
       "         basementsqft  bathroomcnt  bedroomcnt  buildingclasstypeid  \\\n",
       "2985212           NaN          NaN         NaN                  NaN   \n",
       "2985213           NaN          NaN         NaN                  NaN   \n",
       "2985214           NaN          NaN         NaN                  NaN   \n",
       "2985215           NaN          NaN         NaN                  NaN   \n",
       "2985216           NaN          NaN         NaN                  NaN   \n",
       "\n",
       "         buildingqualitytypeid  calculatedbathnbr  decktypeid  \\\n",
       "2985212                    NaN                NaN         NaN   \n",
       "2985213                    NaN                NaN         NaN   \n",
       "2985214                    NaN                NaN         NaN   \n",
       "2985215                    NaN                NaN         NaN   \n",
       "2985216                    NaN                NaN         NaN   \n",
       "\n",
       "                ...           numberofstories  fireplaceflag  \\\n",
       "2985212         ...                       NaN            NaN   \n",
       "2985213         ...                       NaN            NaN   \n",
       "2985214         ...                       NaN            NaN   \n",
       "2985215         ...                       NaN            NaN   \n",
       "2985216         ...                       NaN            NaN   \n",
       "\n",
       "         structuretaxvaluedollarcnt  taxvaluedollarcnt  assessmentyear  \\\n",
       "2985212                         NaN                NaN             NaN   \n",
       "2985213                         NaN                NaN             NaN   \n",
       "2985214                         NaN                NaN             NaN   \n",
       "2985215                         NaN                NaN             NaN   \n",
       "2985216                         NaN                NaN             NaN   \n",
       "\n",
       "         landtaxvaluedollarcnt  taxamount  taxdelinquencyflag  \\\n",
       "2985212                    NaN        NaN                 NaN   \n",
       "2985213                    NaN        NaN                 NaN   \n",
       "2985214                    NaN        NaN                 NaN   \n",
       "2985215                    NaN        NaN                 NaN   \n",
       "2985216                    NaN        NaN                 NaN   \n",
       "\n",
       "         taxdelinquencyyear  censustractandblock  \n",
       "2985212                 NaN                  NaN  \n",
       "2985213                 NaN                  NaN  \n",
       "2985214                 NaN                  NaN  \n",
       "2985215                 NaN                  NaN  \n",
       "2985216                 NaN                  NaN  \n",
       "\n",
       "[5 rows x 58 columns]"
      ]
     },
     "execution_count": 3,
     "metadata": {},
     "output_type": "execute_result"
    }
   ],
   "source": [
    "property16 = pd.read_csv(\"zillow_data/properties_2016.csv\")\n",
    "print(property16.shape)\n",
    "property16.tail()"
   ]
  },
  {
   "cell_type": "markdown",
   "metadata": {},
   "source": [
    "## Aircondiztioningtypeid & Heatingorsystemtypeid In Properties"
   ]
  },
  {
   "cell_type": "markdown",
   "metadata": {},
   "source": [
    "##### airconditioningtypeid :  Type of cooling system present in the home (if any)\n",
    "    - 집 안 냉방시스템 종류의 아이디(제품 번호)\n",
    "    - 72.8%의 값이 Nan 값(소수점 둘째 자리에서 반올림)\n",
    "    - 전체 Nan값 2173698개 중에 1066214개의 heatingorsystemtypeid 값은 NaN이 아님.\n",
    "    \n",
    "##### heatingorsystemtypeid :  Type of home heating system\n",
    "    - 집 안 난방시스템 종류의 아이디(제품 번호)\n",
    "    - 39.5%의 값이 Nan 값(소수점 둘째 자리에서 반올림)\n",
    "    - 전체 Nan값 1178816개 중에 71332개의 airconditioningtypeid 값은 NaN이 아님."
   ]
  },
  {
   "cell_type": "code",
   "execution_count": 4,
   "metadata": {
    "collapsed": true
   },
   "outputs": [],
   "source": [
    "hvac_prop16 = property16[[\"airconditioningtypeid\", \"heatingorsystemtypeid\"]]"
   ]
  },
  {
   "cell_type": "code",
   "execution_count": 5,
   "metadata": {},
   "outputs": [
    {
     "data": {
      "text/html": [
       "<div>\n",
       "<style scoped>\n",
       "    .dataframe tbody tr th:only-of-type {\n",
       "        vertical-align: middle;\n",
       "    }\n",
       "\n",
       "    .dataframe tbody tr th {\n",
       "        vertical-align: top;\n",
       "    }\n",
       "\n",
       "    .dataframe thead th {\n",
       "        text-align: right;\n",
       "    }\n",
       "</style>\n",
       "<table border=\"1\" class=\"dataframe\">\n",
       "  <thead>\n",
       "    <tr style=\"text-align: right;\">\n",
       "      <th></th>\n",
       "      <th>column_name</th>\n",
       "      <th>missing_count</th>\n",
       "    </tr>\n",
       "  </thead>\n",
       "  <tbody>\n",
       "    <tr>\n",
       "      <th>1</th>\n",
       "      <td>heatingorsystemtypeid</td>\n",
       "      <td>1178816</td>\n",
       "    </tr>\n",
       "    <tr>\n",
       "      <th>0</th>\n",
       "      <td>airconditioningtypeid</td>\n",
       "      <td>2173698</td>\n",
       "    </tr>\n",
       "  </tbody>\n",
       "</table>\n",
       "</div>"
      ],
      "text/plain": [
       "             column_name  missing_count\n",
       "1  heatingorsystemtypeid        1178816\n",
       "0  airconditioningtypeid        2173698"
      ]
     },
     "execution_count": 5,
     "metadata": {},
     "output_type": "execute_result"
    },
    {
     "data": {
      "image/png": "[encoded data removed]",
      "text/plain": [
       "<matplotlib.figure.Figure at 0x1797daaeac8>"
      ]
     },
     "metadata": {},
     "output_type": "display_data"
    }
   ],
   "source": [
    "missing_hvac16 = hvac_prop16.isnull().sum(axis=0).reset_index()\n",
    "missing_hvac16.columns = ['column_name', 'missing_count']\n",
    "missing_hvac16 = missing_hvac16.sort_values(by='missing_count')\n",
    "\n",
    "fig, ax2 = pyplot.subplots(figsize=(5,2))\n",
    "missing_hvac16.plot(\"column_name\", \"missing_count\", kind=\"barh\", color=sns.color_palette(\"deep\", 3), ax=ax2)\n",
    "\n",
    "missing_hvac16"
   ]
  },
  {
   "cell_type": "code",
   "execution_count": 6,
   "metadata": {},
   "outputs": [
    {
     "data": {
      "text/html": [
       "<div>\n",
       "<style scoped>\n",
       "    .dataframe tbody tr th:only-of-type {\n",
       "        vertical-align: middle;\n",
       "    }\n",
       "\n",
       "    .dataframe tbody tr th {\n",
       "        vertical-align: top;\n",
       "    }\n",
       "\n",
       "    .dataframe thead th {\n",
       "        text-align: right;\n",
       "    }\n",
       "</style>\n",
       "<table border=\"1\" class=\"dataframe\">\n",
       "  <thead>\n",
       "    <tr style=\"text-align: right;\">\n",
       "      <th></th>\n",
       "      <th>column_name</th>\n",
       "      <th>missing_count</th>\n",
       "      <th>nan_rate</th>\n",
       "    </tr>\n",
       "  </thead>\n",
       "  <tbody>\n",
       "    <tr>\n",
       "      <th>1</th>\n",
       "      <td>heatingorsystemtypeid</td>\n",
       "      <td>1178816</td>\n",
       "      <td>0.394885</td>\n",
       "    </tr>\n",
       "    <tr>\n",
       "      <th>0</th>\n",
       "      <td>airconditioningtypeid</td>\n",
       "      <td>2173698</td>\n",
       "      <td>0.728154</td>\n",
       "    </tr>\n",
       "  </tbody>\n",
       "</table>\n",
       "</div>"
      ],
      "text/plain": [
       "             column_name  missing_count  nan_rate\n",
       "1  heatingorsystemtypeid        1178816  0.394885\n",
       "0  airconditioningtypeid        2173698  0.728154"
      ]
     },
     "execution_count": 6,
     "metadata": {},
     "output_type": "execute_result"
    }
   ],
   "source": [
    "missing_hvac16[\"nan_rate\"] = missing_hvac16[\"missing_count\"] / len(property16)\n",
    "missing_hvac16"
   ]
  },
  {
   "cell_type": "code",
   "execution_count": 7,
   "metadata": {},
   "outputs": [
    {
     "data": {
      "text/plain": [
       "1107484"
      ]
     },
     "execution_count": 7,
     "metadata": {},
     "output_type": "execute_result"
    }
   ],
   "source": [
    "count = 0\n",
    "for idx in range(0, len(hvac_prop16.index)):\n",
    "    if np.isnan(hvac_prop16[\"heatingorsystemtypeid\"][idx]) and np.isnan(hvac_prop16[\"airconditioningtypeid\"][idx]):\n",
    "        count += 1\n",
    "count"
   ]
  },
  {
   "cell_type": "code",
   "execution_count": 141,
   "metadata": {
    "collapsed": true
   },
   "outputs": [],
   "source": [
    "# count = (heatingorsystemtypeid 와 airconditioningtypeid 모두 빈값인 경우)"
   ]
  },
  {
   "cell_type": "code",
   "execution_count": 8,
   "metadata": {},
   "outputs": [
    {
     "data": {
      "text/plain": [
       "71332"
      ]
     },
     "execution_count": 8,
     "metadata": {},
     "output_type": "execute_result"
    }
   ],
   "source": [
    "# heatingorsystemtypeid의 값이 비어 있을 때, airconditioningtypeid의 값은 비어 있지 않은 경우.\n",
    "1178816 - count"
   ]
  },
  {
   "cell_type": "code",
   "execution_count": 9,
   "metadata": {},
   "outputs": [
    {
     "data": {
      "text/plain": [
       "1066214"
      ]
     },
     "execution_count": 9,
     "metadata": {},
     "output_type": "execute_result"
    }
   ],
   "source": [
    "#airconditioningtypeid의 값이 비어 있을 때, heatingorsystemtypeid의 값은 비어있지 않은 경우.\n",
    "2173698 - count"
   ]
  },
  {
   "cell_type": "markdown",
   "metadata": {},
   "source": [
    "##### heatingorsystemtypeid == 2 일때, airconditioningtypeid 컬럼은 총 1156380개 인데 그중 빈값은 총 449720개이다.\n",
    "    - heatingorsystemtypeid == 2 일때, airconditioningtypeid 컬럼에 채워져 있는 값의 99.99%가 1.0 이다.\n",
    "    - '그러므로 heatingorsystemtypeid == 2 일때, airconditioningtypeid 컬럼의 빈값은 1.0 이다' 라는 사건의 확률은 99.99%라 할 수 있다."
   ]
  },
  {
   "cell_type": "code",
   "execution_count": 7,
   "metadata": {},
   "outputs": [
    {
     "data": {
      "text/plain": [
       "449720"
      ]
     },
     "execution_count": 7,
     "metadata": {},
     "output_type": "execute_result"
    }
   ],
   "source": [
    "hvac_prop16[hvac_prop16[\"heatingorsystemtypeid\"] == 2.0][\"airconditioningtypeid\"].isna().sum()"
   ]
  },
  {
   "cell_type": "code",
   "execution_count": 8,
   "metadata": {},
   "outputs": [
    {
     "data": {
      "text/plain": [
       "1156830"
      ]
     },
     "execution_count": 8,
     "metadata": {},
     "output_type": "execute_result"
    }
   ],
   "source": [
    "len(hvac_prop16[hvac_prop16[\"heatingorsystemtypeid\"] == 2.0][\"airconditioningtypeid\"])"
   ]
  },
  {
   "cell_type": "code",
   "execution_count": 9,
   "metadata": {},
   "outputs": [
    {
     "data": {
      "text/plain": [
       "1.0     707094\n",
       "9.0         15\n",
       "13.0         1\n",
       "Name: airconditioningtypeid, dtype: int64"
      ]
     },
     "execution_count": 9,
     "metadata": {},
     "output_type": "execute_result"
    }
   ],
   "source": [
    "hvac_prop16[hvac_prop16[\"heatingorsystemtypeid\"] == 2.0][\"airconditioningtypeid\"].value_counts()"
   ]
  },
  {
   "cell_type": "code",
   "execution_count": 10,
   "metadata": {},
   "outputs": [
    {
     "data": {
      "text/plain": [
       "0.9999773726860036"
      ]
     },
     "execution_count": 10,
     "metadata": {},
     "output_type": "execute_result"
    }
   ],
   "source": [
    "707094 / 707110"
   ]
  },
  {
   "cell_type": "code",
   "execution_count": 11,
   "metadata": {},
   "outputs": [
    {
     "data": {
      "text/plain": [
       "1.0     742364\n",
       "13.0     58457\n",
       "5.0       8795\n",
       "11.0      1818\n",
       "12.0        59\n",
       "9.0         19\n",
       "3.0          7\n",
       "Name: airconditioningtypeid, dtype: int64"
      ]
     },
     "execution_count": 11,
     "metadata": {},
     "output_type": "execute_result"
    }
   ],
   "source": [
    "hvac_prop16[\"airconditioningtypeid\"].value_counts()"
   ]
  },
  {
   "cell_type": "markdown",
   "metadata": {},
   "source": [
    "##### airconditioningtypeid == 1.0 일때, heatingorsystemtypeid 컬럼은 총 742364개 인데 그중 빈값은 총 13174개이다.\n",
    "    - airconditioningtypeid == 1.0 일때, heatingorsystemtypeid 컬럼에 채워져 있는 값의 96.96%가 2.0 이다.\n",
    "    - '그러므로 airconditioningtypeid == 1.0 일때, heatingorsystemtypeid 컬럼의 빈값은 2.0 이다' 라는 사건의 확률은 96.96%라 할 수 있다."
   ]
  },
  {
   "cell_type": "code",
   "execution_count": 12,
   "metadata": {},
   "outputs": [
    {
     "data": {
      "text/plain": [
       "13174"
      ]
     },
     "execution_count": 12,
     "metadata": {},
     "output_type": "execute_result"
    }
   ],
   "source": [
    "hvac_prop16[hvac_prop16[\"airconditioningtypeid\"] == 1.0][\"heatingorsystemtypeid\"].isna().sum()"
   ]
  },
  {
   "cell_type": "code",
   "execution_count": 13,
   "metadata": {},
   "outputs": [
    {
     "data": {
      "text/plain": [
       "742364"
      ]
     },
     "execution_count": 13,
     "metadata": {},
     "output_type": "execute_result"
    }
   ],
   "source": [
    "len(hvac_prop16[hvac_prop16[\"airconditioningtypeid\"] == 1.0][\"heatingorsystemtypeid\"])"
   ]
  },
  {
   "cell_type": "code",
   "execution_count": 14,
   "metadata": {},
   "outputs": [
    {
     "data": {
      "text/plain": [
       "2.0     707094\n",
       "6.0      13206\n",
       "24.0      6942\n",
       "13.0       973\n",
       "20.0       603\n",
       "7.0        208\n",
       "1.0         65\n",
       "18.0        51\n",
       "10.0        20\n",
       "12.0        18\n",
       "11.0         6\n",
       "14.0         3\n",
       "19.0         1\n",
       "Name: heatingorsystemtypeid, dtype: int64"
      ]
     },
     "execution_count": 14,
     "metadata": {},
     "output_type": "execute_result"
    }
   ],
   "source": [
    "hvac_prop16[hvac_prop16[\"airconditioningtypeid\"] == 1.0][\"heatingorsystemtypeid\"].value_counts()"
   ]
  },
  {
   "cell_type": "code",
   "execution_count": 15,
   "metadata": {},
   "outputs": [
    {
     "data": {
      "text/plain": [
       "0.9696978839534278"
      ]
     },
     "execution_count": 15,
     "metadata": {},
     "output_type": "execute_result"
    }
   ],
   "source": [
    "707094 / 729190"
   ]
  },
  {
   "cell_type": "code",
   "execution_count": 16,
   "metadata": {},
   "outputs": [
    {
     "data": {
      "text/plain": [
       "2.0     1156830\n",
       "7.0      595453\n",
       "6.0       27480\n",
       "24.0      21107\n",
       "20.0       3216\n",
       "13.0       1342\n",
       "18.0        586\n",
       "1.0         262\n",
       "14.0         41\n",
       "10.0         39\n",
       "12.0         25\n",
       "11.0         16\n",
       "21.0          3\n",
       "19.0          1\n",
       "Name: heatingorsystemtypeid, dtype: int64"
      ]
     },
     "execution_count": 16,
     "metadata": {},
     "output_type": "execute_result"
    }
   ],
   "source": [
    "hvac_prop16[\"heatingorsystemtypeid\"].value_counts()"
   ]
  },
  {
   "cell_type": "markdown",
   "metadata": {},
   "source": [
    "### 결론1 : airconditioningtypeid의 비어있는 값 2173698 개 중에 449720 개는 heatingorsystemtypeid의 값을 보고 99.99% 예측해서 채워넣을 수 있다.\n",
    "### 결론2 : heatingorsystemtypeid의 비어있는 값 1178816 개 중에 13174 개는 airconditioningtypeid의 값을 보고 96.96% 예측해서 채워넣을 수 있다."
   ]
  },
  {
   "cell_type": "markdown",
   "metadata": {},
   "source": [
    "============================================================================================"
   ]
  },
  {
   "cell_type": "markdown",
   "metadata": {
    "collapsed": true
   },
   "source": [
    "## Airconditioningtypeid & Heatingorsystemtypeid with Logerro"
   ]
  },
  {
   "cell_type": "code",
   "execution_count": 46,
   "metadata": {},
   "outputs": [
    {
     "data": {
      "text/html": [
       "<div>\n",
       "<style scoped>\n",
       "    .dataframe tbody tr th:only-of-type {\n",
       "        vertical-align: middle;\n",
       "    }\n",
       "\n",
       "    .dataframe tbody tr th {\n",
       "        vertical-align: top;\n",
       "    }\n",
       "\n",
       "    .dataframe thead th {\n",
       "        text-align: right;\n",
       "    }\n",
       "</style>\n",
       "<table border=\"1\" class=\"dataframe\">\n",
       "  <thead>\n",
       "    <tr style=\"text-align: right;\">\n",
       "      <th></th>\n",
       "      <th>logerror</th>\n",
       "      <th>transactiondate</th>\n",
       "      <th>airconditioningtypeid</th>\n",
       "      <th>architecturalstyletypeid</th>\n",
       "      <th>basementsqft</th>\n",
       "      <th>bathroomcnt</th>\n",
       "      <th>bedroomcnt</th>\n",
       "      <th>buildingclasstypeid</th>\n",
       "      <th>buildingqualitytypeid</th>\n",
       "      <th>calculatedbathnbr</th>\n",
       "      <th>...</th>\n",
       "      <th>numberofstories</th>\n",
       "      <th>fireplaceflag</th>\n",
       "      <th>structuretaxvaluedollarcnt</th>\n",
       "      <th>taxvaluedollarcnt</th>\n",
       "      <th>assessmentyear</th>\n",
       "      <th>landtaxvaluedollarcnt</th>\n",
       "      <th>taxamount</th>\n",
       "      <th>taxdelinquencyflag</th>\n",
       "      <th>taxdelinquencyyear</th>\n",
       "      <th>censustractandblock</th>\n",
       "    </tr>\n",
       "    <tr>\n",
       "      <th>parcelid</th>\n",
       "      <th></th>\n",
       "      <th></th>\n",
       "      <th></th>\n",
       "      <th></th>\n",
       "      <th></th>\n",
       "      <th></th>\n",
       "      <th></th>\n",
       "      <th></th>\n",
       "      <th></th>\n",
       "      <th></th>\n",
       "      <th></th>\n",
       "      <th></th>\n",
       "      <th></th>\n",
       "      <th></th>\n",
       "      <th></th>\n",
       "      <th></th>\n",
       "      <th></th>\n",
       "      <th></th>\n",
       "      <th></th>\n",
       "      <th></th>\n",
       "      <th></th>\n",
       "    </tr>\n",
       "  </thead>\n",
       "  <tbody>\n",
       "    <tr>\n",
       "      <th>10711738</th>\n",
       "      <td>0.0276</td>\n",
       "      <td>2016-08-02</td>\n",
       "      <td>1.0</td>\n",
       "      <td>NaN</td>\n",
       "      <td>NaN</td>\n",
       "      <td>3.0</td>\n",
       "      <td>4.0</td>\n",
       "      <td>NaN</td>\n",
       "      <td>4.0</td>\n",
       "      <td>3.0</td>\n",
       "      <td>...</td>\n",
       "      <td>NaN</td>\n",
       "      <td>NaN</td>\n",
       "      <td>245180.0</td>\n",
       "      <td>567112.0</td>\n",
       "      <td>2015.0</td>\n",
       "      <td>321932.0</td>\n",
       "      <td>7219.18</td>\n",
       "      <td>NaN</td>\n",
       "      <td>NaN</td>\n",
       "      <td>6.037113e+13</td>\n",
       "    </tr>\n",
       "    <tr>\n",
       "      <th>10711755</th>\n",
       "      <td>-0.0182</td>\n",
       "      <td>2016-08-02</td>\n",
       "      <td>1.0</td>\n",
       "      <td>NaN</td>\n",
       "      <td>NaN</td>\n",
       "      <td>3.0</td>\n",
       "      <td>3.0</td>\n",
       "      <td>NaN</td>\n",
       "      <td>4.0</td>\n",
       "      <td>3.0</td>\n",
       "      <td>...</td>\n",
       "      <td>NaN</td>\n",
       "      <td>NaN</td>\n",
       "      <td>254691.0</td>\n",
       "      <td>459844.0</td>\n",
       "      <td>2015.0</td>\n",
       "      <td>205153.0</td>\n",
       "      <td>6901.09</td>\n",
       "      <td>NaN</td>\n",
       "      <td>NaN</td>\n",
       "      <td>6.037113e+13</td>\n",
       "    </tr>\n",
       "    <tr>\n",
       "      <th>10711805</th>\n",
       "      <td>-0.1009</td>\n",
       "      <td>2016-05-03</td>\n",
       "      <td>1.0</td>\n",
       "      <td>NaN</td>\n",
       "      <td>NaN</td>\n",
       "      <td>2.0</td>\n",
       "      <td>3.0</td>\n",
       "      <td>NaN</td>\n",
       "      <td>4.0</td>\n",
       "      <td>2.0</td>\n",
       "      <td>...</td>\n",
       "      <td>NaN</td>\n",
       "      <td>NaN</td>\n",
       "      <td>235114.0</td>\n",
       "      <td>384787.0</td>\n",
       "      <td>2015.0</td>\n",
       "      <td>149673.0</td>\n",
       "      <td>4876.61</td>\n",
       "      <td>NaN</td>\n",
       "      <td>NaN</td>\n",
       "      <td>6.037113e+13</td>\n",
       "    </tr>\n",
       "    <tr>\n",
       "      <th>10711816</th>\n",
       "      <td>-0.0121</td>\n",
       "      <td>2016-04-05</td>\n",
       "      <td>1.0</td>\n",
       "      <td>NaN</td>\n",
       "      <td>NaN</td>\n",
       "      <td>2.0</td>\n",
       "      <td>4.0</td>\n",
       "      <td>NaN</td>\n",
       "      <td>4.0</td>\n",
       "      <td>2.0</td>\n",
       "      <td>...</td>\n",
       "      <td>NaN</td>\n",
       "      <td>NaN</td>\n",
       "      <td>262309.0</td>\n",
       "      <td>437176.0</td>\n",
       "      <td>2015.0</td>\n",
       "      <td>174867.0</td>\n",
       "      <td>5560.07</td>\n",
       "      <td>NaN</td>\n",
       "      <td>NaN</td>\n",
       "      <td>6.037113e+13</td>\n",
       "    </tr>\n",
       "    <tr>\n",
       "      <th>10711858</th>\n",
       "      <td>-0.0481</td>\n",
       "      <td>2016-07-15</td>\n",
       "      <td>1.0</td>\n",
       "      <td>NaN</td>\n",
       "      <td>NaN</td>\n",
       "      <td>2.0</td>\n",
       "      <td>4.0</td>\n",
       "      <td>NaN</td>\n",
       "      <td>4.0</td>\n",
       "      <td>2.0</td>\n",
       "      <td>...</td>\n",
       "      <td>NaN</td>\n",
       "      <td>NaN</td>\n",
       "      <td>232037.0</td>\n",
       "      <td>382055.0</td>\n",
       "      <td>2015.0</td>\n",
       "      <td>150018.0</td>\n",
       "      <td>4878.25</td>\n",
       "      <td>NaN</td>\n",
       "      <td>NaN</td>\n",
       "      <td>6.037113e+13</td>\n",
       "    </tr>\n",
       "  </tbody>\n",
       "</table>\n",
       "<p>5 rows × 59 columns</p>\n",
       "</div>"
      ],
      "text/plain": [
       "          logerror transactiondate  airconditioningtypeid  \\\n",
       "parcelid                                                    \n",
       "10711738    0.0276      2016-08-02                    1.0   \n",
       "10711755   -0.0182      2016-08-02                    1.0   \n",
       "10711805   -0.1009      2016-05-03                    1.0   \n",
       "10711816   -0.0121      2016-04-05                    1.0   \n",
       "10711858   -0.0481      2016-07-15                    1.0   \n",
       "\n",
       "          architecturalstyletypeid  basementsqft  bathroomcnt  bedroomcnt  \\\n",
       "parcelid                                                                    \n",
       "10711738                       NaN           NaN          3.0         4.0   \n",
       "10711755                       NaN           NaN          3.0         3.0   \n",
       "10711805                       NaN           NaN          2.0         3.0   \n",
       "10711816                       NaN           NaN          2.0         4.0   \n",
       "10711858                       NaN           NaN          2.0         4.0   \n",
       "\n",
       "          buildingclasstypeid  buildingqualitytypeid  calculatedbathnbr  \\\n",
       "parcelid                                                                  \n",
       "10711738                  NaN                    4.0                3.0   \n",
       "10711755                  NaN                    4.0                3.0   \n",
       "10711805                  NaN                    4.0                2.0   \n",
       "10711816                  NaN                    4.0                2.0   \n",
       "10711858                  NaN                    4.0                2.0   \n",
       "\n",
       "                 ...           numberofstories  fireplaceflag  \\\n",
       "parcelid         ...                                            \n",
       "10711738         ...                       NaN            NaN   \n",
       "10711755         ...                       NaN            NaN   \n",
       "10711805         ...                       NaN            NaN   \n",
       "10711816         ...                       NaN            NaN   \n",
       "10711858         ...                       NaN            NaN   \n",
       "\n",
       "          structuretaxvaluedollarcnt  taxvaluedollarcnt  assessmentyear  \\\n",
       "parcelid                                                                  \n",
       "10711738                    245180.0           567112.0          2015.0   \n",
       "10711755                    254691.0           459844.0          2015.0   \n",
       "10711805                    235114.0           384787.0          2015.0   \n",
       "10711816                    262309.0           437176.0          2015.0   \n",
       "10711858                    232037.0           382055.0          2015.0   \n",
       "\n",
       "          landtaxvaluedollarcnt  taxamount  taxdelinquencyflag  \\\n",
       "parcelid                                                         \n",
       "10711738               321932.0    7219.18                 NaN   \n",
       "10711755               205153.0    6901.09                 NaN   \n",
       "10711805               149673.0    4876.61                 NaN   \n",
       "10711816               174867.0    5560.07                 NaN   \n",
       "10711858               150018.0    4878.25                 NaN   \n",
       "\n",
       "          taxdelinquencyyear  censustractandblock  \n",
       "parcelid                                           \n",
       "10711738                 NaN         6.037113e+13  \n",
       "10711755                 NaN         6.037113e+13  \n",
       "10711805                 NaN         6.037113e+13  \n",
       "10711816                 NaN         6.037113e+13  \n",
       "10711858                 NaN         6.037113e+13  \n",
       "\n",
       "[5 rows x 59 columns]"
      ]
     },
     "execution_count": 46,
     "metadata": {},
     "output_type": "execute_result"
    }
   ],
   "source": [
    "new_train16 = train16.set_index('parcelid').join(property16.set_index('parcelid'))\n",
    "new_train16.head()"
   ]
  },
  {
   "cell_type": "markdown",
   "metadata": {},
   "source": [
    "### 첫번째 모델 - 비율이 가장 높은 airconditioningtypeid = 1.0, heatingorsystemtypeid = 2.0을 채우고,나머지를 NaN을 0으로 처리 후, category로 모델 만들었을 시 전혀 의미를 가지지 못하는 컬럼이 됨."
   ]
  },
  {
   "cell_type": "code",
   "execution_count": 47,
   "metadata": {},
   "outputs": [
    {
     "data": {
      "text/plain": [
       "airconditioningtypeid    48681\n",
       "heatingorsystemtypeid    33948\n",
       "dtype: int64"
      ]
     },
     "execution_count": 47,
     "metadata": {},
     "output_type": "execute_result"
    }
   ],
   "source": [
    "new_train16.loc[new_train16[\"heatingorsystemtypeid\"] == 2.0, \"airconditioningtypeid\"] = 1.0\n",
    "new_train16.loc[new_train16[\"airconditioningtypeid\"] == 1.0, \"heatingorsystemtypeid\"] = 2.0\n",
    "new_train16[[\"airconditioningtypeid\", \"heatingorsystemtypeid\"]].isna().sum()"
   ]
  },
  {
   "cell_type": "code",
   "execution_count": 48,
   "metadata": {},
   "outputs": [
    {
     "data": {
      "text/plain": [
       "airconditioningtypeid    0\n",
       "heatingorsystemtypeid    0\n",
       "dtype: int64"
      ]
     },
     "execution_count": 48,
     "metadata": {},
     "output_type": "execute_result"
    }
   ],
   "source": [
    "new_train16.loc[np.isnan(new_train16[\"airconditioningtypeid\"]), \"airconditioningtypeid\"] = 0.0\n",
    "new_train16.loc[np.isnan(new_train16[\"heatingorsystemtypeid\"]), \"heatingorsystemtypeid\"] = 0.0\n",
    "new_train16[[\"airconditioningtypeid\", \"heatingorsystemtypeid\"]].isna().sum()"
   ]
  },
  {
   "cell_type": "code",
   "execution_count": 51,
   "metadata": {},
   "outputs": [
    {
     "data": {
      "text/html": [
       "<div>\n",
       "<style scoped>\n",
       "    .dataframe tbody tr th:only-of-type {\n",
       "        vertical-align: middle;\n",
       "    }\n",
       "\n",
       "    .dataframe tbody tr th {\n",
       "        vertical-align: top;\n",
       "    }\n",
       "\n",
       "    .dataframe thead th {\n",
       "        text-align: right;\n",
       "    }\n",
       "</style>\n",
       "<table border=\"1\" class=\"dataframe\">\n",
       "  <thead>\n",
       "    <tr style=\"text-align: right;\">\n",
       "      <th></th>\n",
       "      <th>airconditioningtypeid</th>\n",
       "      <th>heatingorsystemtypeid</th>\n",
       "      <th>logerror</th>\n",
       "    </tr>\n",
       "    <tr>\n",
       "      <th>parcelid</th>\n",
       "      <th></th>\n",
       "      <th></th>\n",
       "      <th></th>\n",
       "    </tr>\n",
       "  </thead>\n",
       "  <tbody>\n",
       "    <tr>\n",
       "      <th>10711738</th>\n",
       "      <td>1.0</td>\n",
       "      <td>2.0</td>\n",
       "      <td>0.0276</td>\n",
       "    </tr>\n",
       "    <tr>\n",
       "      <th>10711755</th>\n",
       "      <td>1.0</td>\n",
       "      <td>2.0</td>\n",
       "      <td>-0.0182</td>\n",
       "    </tr>\n",
       "    <tr>\n",
       "      <th>10711805</th>\n",
       "      <td>1.0</td>\n",
       "      <td>2.0</td>\n",
       "      <td>-0.1009</td>\n",
       "    </tr>\n",
       "    <tr>\n",
       "      <th>10711816</th>\n",
       "      <td>1.0</td>\n",
       "      <td>2.0</td>\n",
       "      <td>-0.0121</td>\n",
       "    </tr>\n",
       "    <tr>\n",
       "      <th>10711858</th>\n",
       "      <td>1.0</td>\n",
       "      <td>2.0</td>\n",
       "      <td>-0.0481</td>\n",
       "    </tr>\n",
       "  </tbody>\n",
       "</table>\n",
       "</div>"
      ],
      "text/plain": [
       "          airconditioningtypeid  heatingorsystemtypeid  logerror\n",
       "parcelid                                                        \n",
       "10711738                    1.0                    2.0    0.0276\n",
       "10711755                    1.0                    2.0   -0.0182\n",
       "10711805                    1.0                    2.0   -0.1009\n",
       "10711816                    1.0                    2.0   -0.0121\n",
       "10711858                    1.0                    2.0   -0.0481"
      ]
     },
     "execution_count": 51,
     "metadata": {},
     "output_type": "execute_result"
    }
   ],
   "source": [
    "df = new_train16[[\"airconditioningtypeid\", \"heatingorsystemtypeid\", \"logerror\"]]\n",
    "df[[\"airconditioningtypeid\", \"heatingorsystemtypeid\"]].astype('category')\n",
    "df.head()"
   ]
  },
  {
   "cell_type": "code",
   "execution_count": 52,
   "metadata": {},
   "outputs": [
    {
     "name": "stdout",
     "output_type": "stream",
     "text": [
      "                            OLS Regression Results                            \n",
      "==============================================================================\n",
      "Dep. Variable:               logerror   R-squared:                       0.000\n",
      "Model:                            OLS   Adj. R-squared:                  0.000\n",
      "Method:                 Least Squares   F-statistic:                     1.880\n",
      "Date:                Mon, 02 Jul 2018   Prob (F-statistic):             0.0176\n",
      "Time:                        23:15:15   Log-Likelihood:                 36750.\n",
      "No. Observations:               90275   AIC:                        -7.347e+04\n",
      "Df Residuals:                   90258   BIC:                        -7.331e+04\n",
      "Df Model:                          16                                         \n",
      "Covariance Type:            nonrobust                                         \n",
      "====================================================================================================\n",
      "                                       coef    std err          t      P>|t|      [0.025      0.975]\n",
      "----------------------------------------------------------------------------------------------------\n",
      "Intercept                            0.0121      0.001     13.439      0.000       0.010       0.014\n",
      "C(airconditioningtypeid)[T.1.0]      0.0003      0.001      0.564      0.573      -0.001       0.002\n",
      "C(airconditioningtypeid)[T.3.0]      0.0981      0.165      0.593      0.553      -0.226       0.422\n",
      "C(airconditioningtypeid)[T.5.0]      0.0104      0.014      0.737      0.461      -0.017       0.038\n",
      "C(airconditioningtypeid)[T.11.0]     0.0160      0.023      0.696      0.486      -0.029       0.061\n",
      "C(airconditioningtypeid)[T.13.0]     0.0034      0.004      0.885      0.376      -0.004       0.011\n",
      "C(heatingorsystemtypeid)[T.1.0]      0.0040      0.058      0.070      0.944      -0.109       0.117\n",
      "C(heatingorsystemtypeid)[T.2.0]      0.0003      0.001      0.564      0.573      -0.001       0.002\n",
      "C(heatingorsystemtypeid)[T.6.0]     -0.0067      0.010     -0.688      0.491      -0.026       0.012\n",
      "C(heatingorsystemtypeid)[T.7.0]     -0.0046      0.002     -2.928      0.003      -0.008      -0.002\n",
      "C(heatingorsystemtypeid)[T.10.0]    -0.0494      0.114     -0.431      0.666      -0.274       0.175\n",
      "C(heatingorsystemtypeid)[T.11.0]    -0.0272      0.161     -0.169      0.866      -0.343       0.289\n",
      "C(heatingorsystemtypeid)[T.12.0]    -0.0252      0.161     -0.156      0.876      -0.341       0.291\n",
      "C(heatingorsystemtypeid)[T.13.0]    -0.0185      0.038     -0.486      0.627      -0.093       0.056\n",
      "C(heatingorsystemtypeid)[T.14.0]    -0.0170      0.114     -0.149      0.882      -0.240       0.206\n",
      "C(heatingorsystemtypeid)[T.18.0]     0.0145      0.036      0.398      0.691      -0.057       0.086\n",
      "C(heatingorsystemtypeid)[T.20.0]    -0.0081      0.018     -0.445      0.656      -0.044       0.027\n",
      "C(heatingorsystemtypeid)[T.24.0]    -0.0231      0.006     -3.831      0.000      -0.035      -0.011\n",
      "==============================================================================\n",
      "Omnibus:                    66306.457   Durbin-Watson:                   1.927\n",
      "Prob(Omnibus):                  0.000   Jarque-Bera (JB):         64893789.766\n",
      "Skew:                           2.178   Prob(JB):                         0.00\n",
      "Kurtosis:                     134.276   Cond. No.                     6.36e+15\n",
      "==============================================================================\n",
      "\n",
      "Warnings:\n",
      "[1] Standard Errors assume that the covariance matrix of the errors is correctly specified.\n",
      "[2] The smallest eigenvalue is 3.51e-27. This might indicate that there are\n",
      "strong multicollinearity problems or that the design matrix is singular.\n"
     ]
    }
   ],
   "source": [
    "model_hvac16 = sm.OLS.from_formula(\"logerror ~  C(airconditioningtypeid) + C(heatingorsystemtypeid)\",df)\n",
    "result_hvac16 = model_hvac16.fit()\n",
    "print(result_hvac16.summary())"
   ]
  },
  {
   "cell_type": "markdown",
   "metadata": {},
   "source": [
    "============================================================================================"
   ]
  },
  {
   "cell_type": "markdown",
   "metadata": {},
   "source": [
    "### 두번째 모델 - airconditioningtypeid와 heatingorsystemtypeid가 있다/없다(1.0/0.0)으로 나누어 처리후 모델을 만들었을 시 또한 의미를 가지지 못한다."
   ]
  },
  {
   "cell_type": "code",
   "execution_count": 55,
   "metadata": {},
   "outputs": [
    {
     "data": {
      "text/html": [
       "<div>\n",
       "<style scoped>\n",
       "    .dataframe tbody tr th:only-of-type {\n",
       "        vertical-align: middle;\n",
       "    }\n",
       "\n",
       "    .dataframe tbody tr th {\n",
       "        vertical-align: top;\n",
       "    }\n",
       "\n",
       "    .dataframe thead th {\n",
       "        text-align: right;\n",
       "    }\n",
       "</style>\n",
       "<table border=\"1\" class=\"dataframe\">\n",
       "  <thead>\n",
       "    <tr style=\"text-align: right;\">\n",
       "      <th></th>\n",
       "      <th>logerror</th>\n",
       "      <th>transactiondate</th>\n",
       "      <th>airconditioningtypeid</th>\n",
       "      <th>architecturalstyletypeid</th>\n",
       "      <th>basementsqft</th>\n",
       "      <th>bathroomcnt</th>\n",
       "      <th>bedroomcnt</th>\n",
       "      <th>buildingclasstypeid</th>\n",
       "      <th>buildingqualitytypeid</th>\n",
       "      <th>calculatedbathnbr</th>\n",
       "      <th>...</th>\n",
       "      <th>numberofstories</th>\n",
       "      <th>fireplaceflag</th>\n",
       "      <th>structuretaxvaluedollarcnt</th>\n",
       "      <th>taxvaluedollarcnt</th>\n",
       "      <th>assessmentyear</th>\n",
       "      <th>landtaxvaluedollarcnt</th>\n",
       "      <th>taxamount</th>\n",
       "      <th>taxdelinquencyflag</th>\n",
       "      <th>taxdelinquencyyear</th>\n",
       "      <th>censustractandblock</th>\n",
       "    </tr>\n",
       "    <tr>\n",
       "      <th>parcelid</th>\n",
       "      <th></th>\n",
       "      <th></th>\n",
       "      <th></th>\n",
       "      <th></th>\n",
       "      <th></th>\n",
       "      <th></th>\n",
       "      <th></th>\n",
       "      <th></th>\n",
       "      <th></th>\n",
       "      <th></th>\n",
       "      <th></th>\n",
       "      <th></th>\n",
       "      <th></th>\n",
       "      <th></th>\n",
       "      <th></th>\n",
       "      <th></th>\n",
       "      <th></th>\n",
       "      <th></th>\n",
       "      <th></th>\n",
       "      <th></th>\n",
       "      <th></th>\n",
       "    </tr>\n",
       "  </thead>\n",
       "  <tbody>\n",
       "    <tr>\n",
       "      <th>10711738</th>\n",
       "      <td>0.0276</td>\n",
       "      <td>2016-08-02</td>\n",
       "      <td>1.0</td>\n",
       "      <td>NaN</td>\n",
       "      <td>NaN</td>\n",
       "      <td>3.0</td>\n",
       "      <td>4.0</td>\n",
       "      <td>NaN</td>\n",
       "      <td>4.0</td>\n",
       "      <td>3.0</td>\n",
       "      <td>...</td>\n",
       "      <td>NaN</td>\n",
       "      <td>NaN</td>\n",
       "      <td>245180.0</td>\n",
       "      <td>567112.0</td>\n",
       "      <td>2015.0</td>\n",
       "      <td>321932.0</td>\n",
       "      <td>7219.18</td>\n",
       "      <td>NaN</td>\n",
       "      <td>NaN</td>\n",
       "      <td>6.037113e+13</td>\n",
       "    </tr>\n",
       "    <tr>\n",
       "      <th>10711755</th>\n",
       "      <td>-0.0182</td>\n",
       "      <td>2016-08-02</td>\n",
       "      <td>1.0</td>\n",
       "      <td>NaN</td>\n",
       "      <td>NaN</td>\n",
       "      <td>3.0</td>\n",
       "      <td>3.0</td>\n",
       "      <td>NaN</td>\n",
       "      <td>4.0</td>\n",
       "      <td>3.0</td>\n",
       "      <td>...</td>\n",
       "      <td>NaN</td>\n",
       "      <td>NaN</td>\n",
       "      <td>254691.0</td>\n",
       "      <td>459844.0</td>\n",
       "      <td>2015.0</td>\n",
       "      <td>205153.0</td>\n",
       "      <td>6901.09</td>\n",
       "      <td>NaN</td>\n",
       "      <td>NaN</td>\n",
       "      <td>6.037113e+13</td>\n",
       "    </tr>\n",
       "    <tr>\n",
       "      <th>10711805</th>\n",
       "      <td>-0.1009</td>\n",
       "      <td>2016-05-03</td>\n",
       "      <td>1.0</td>\n",
       "      <td>NaN</td>\n",
       "      <td>NaN</td>\n",
       "      <td>2.0</td>\n",
       "      <td>3.0</td>\n",
       "      <td>NaN</td>\n",
       "      <td>4.0</td>\n",
       "      <td>2.0</td>\n",
       "      <td>...</td>\n",
       "      <td>NaN</td>\n",
       "      <td>NaN</td>\n",
       "      <td>235114.0</td>\n",
       "      <td>384787.0</td>\n",
       "      <td>2015.0</td>\n",
       "      <td>149673.0</td>\n",
       "      <td>4876.61</td>\n",
       "      <td>NaN</td>\n",
       "      <td>NaN</td>\n",
       "      <td>6.037113e+13</td>\n",
       "    </tr>\n",
       "    <tr>\n",
       "      <th>10711816</th>\n",
       "      <td>-0.0121</td>\n",
       "      <td>2016-04-05</td>\n",
       "      <td>1.0</td>\n",
       "      <td>NaN</td>\n",
       "      <td>NaN</td>\n",
       "      <td>2.0</td>\n",
       "      <td>4.0</td>\n",
       "      <td>NaN</td>\n",
       "      <td>4.0</td>\n",
       "      <td>2.0</td>\n",
       "      <td>...</td>\n",
       "      <td>NaN</td>\n",
       "      <td>NaN</td>\n",
       "      <td>262309.0</td>\n",
       "      <td>437176.0</td>\n",
       "      <td>2015.0</td>\n",
       "      <td>174867.0</td>\n",
       "      <td>5560.07</td>\n",
       "      <td>NaN</td>\n",
       "      <td>NaN</td>\n",
       "      <td>6.037113e+13</td>\n",
       "    </tr>\n",
       "    <tr>\n",
       "      <th>10711858</th>\n",
       "      <td>-0.0481</td>\n",
       "      <td>2016-07-15</td>\n",
       "      <td>1.0</td>\n",
       "      <td>NaN</td>\n",
       "      <td>NaN</td>\n",
       "      <td>2.0</td>\n",
       "      <td>4.0</td>\n",
       "      <td>NaN</td>\n",
       "      <td>4.0</td>\n",
       "      <td>2.0</td>\n",
       "      <td>...</td>\n",
       "      <td>NaN</td>\n",
       "      <td>NaN</td>\n",
       "      <td>232037.0</td>\n",
       "      <td>382055.0</td>\n",
       "      <td>2015.0</td>\n",
       "      <td>150018.0</td>\n",
       "      <td>4878.25</td>\n",
       "      <td>NaN</td>\n",
       "      <td>NaN</td>\n",
       "      <td>6.037113e+13</td>\n",
       "    </tr>\n",
       "  </tbody>\n",
       "</table>\n",
       "<p>5 rows × 59 columns</p>\n",
       "</div>"
      ],
      "text/plain": [
       "          logerror transactiondate  airconditioningtypeid  \\\n",
       "parcelid                                                    \n",
       "10711738    0.0276      2016-08-02                    1.0   \n",
       "10711755   -0.0182      2016-08-02                    1.0   \n",
       "10711805   -0.1009      2016-05-03                    1.0   \n",
       "10711816   -0.0121      2016-04-05                    1.0   \n",
       "10711858   -0.0481      2016-07-15                    1.0   \n",
       "\n",
       "          architecturalstyletypeid  basementsqft  bathroomcnt  bedroomcnt  \\\n",
       "parcelid                                                                    \n",
       "10711738                       NaN           NaN          3.0         4.0   \n",
       "10711755                       NaN           NaN          3.0         3.0   \n",
       "10711805                       NaN           NaN          2.0         3.0   \n",
       "10711816                       NaN           NaN          2.0         4.0   \n",
       "10711858                       NaN           NaN          2.0         4.0   \n",
       "\n",
       "          buildingclasstypeid  buildingqualitytypeid  calculatedbathnbr  \\\n",
       "parcelid                                                                  \n",
       "10711738                  NaN                    4.0                3.0   \n",
       "10711755                  NaN                    4.0                3.0   \n",
       "10711805                  NaN                    4.0                2.0   \n",
       "10711816                  NaN                    4.0                2.0   \n",
       "10711858                  NaN                    4.0                2.0   \n",
       "\n",
       "                 ...           numberofstories  fireplaceflag  \\\n",
       "parcelid         ...                                            \n",
       "10711738         ...                       NaN            NaN   \n",
       "10711755         ...                       NaN            NaN   \n",
       "10711805         ...                       NaN            NaN   \n",
       "10711816         ...                       NaN            NaN   \n",
       "10711858         ...                       NaN            NaN   \n",
       "\n",
       "          structuretaxvaluedollarcnt  taxvaluedollarcnt  assessmentyear  \\\n",
       "parcelid                                                                  \n",
       "10711738                    245180.0           567112.0          2015.0   \n",
       "10711755                    254691.0           459844.0          2015.0   \n",
       "10711805                    235114.0           384787.0          2015.0   \n",
       "10711816                    262309.0           437176.0          2015.0   \n",
       "10711858                    232037.0           382055.0          2015.0   \n",
       "\n",
       "          landtaxvaluedollarcnt  taxamount  taxdelinquencyflag  \\\n",
       "parcelid                                                         \n",
       "10711738               321932.0    7219.18                 NaN   \n",
       "10711755               205153.0    6901.09                 NaN   \n",
       "10711805               149673.0    4876.61                 NaN   \n",
       "10711816               174867.0    5560.07                 NaN   \n",
       "10711858               150018.0    4878.25                 NaN   \n",
       "\n",
       "          taxdelinquencyyear  censustractandblock  \n",
       "parcelid                                           \n",
       "10711738                 NaN         6.037113e+13  \n",
       "10711755                 NaN         6.037113e+13  \n",
       "10711805                 NaN         6.037113e+13  \n",
       "10711816                 NaN         6.037113e+13  \n",
       "10711858                 NaN         6.037113e+13  \n",
       "\n",
       "[5 rows x 59 columns]"
      ]
     },
     "execution_count": 55,
     "metadata": {},
     "output_type": "execute_result"
    }
   ],
   "source": [
    "new_train16 = train16.set_index('parcelid').join(property16.set_index('parcelid'))\n",
    "new_train16.head()"
   ]
  },
  {
   "cell_type": "code",
   "execution_count": 56,
   "metadata": {},
   "outputs": [
    {
     "data": {
      "text/plain": [
       "airconditioningtypeid    0\n",
       "heatingorsystemtypeid    0\n",
       "dtype: int64"
      ]
     },
     "execution_count": 56,
     "metadata": {},
     "output_type": "execute_result"
    }
   ],
   "source": [
    "new_train16.loc[~np.isnan(new_train16[\"airconditioningtypeid\"]), \"airconditioningtypeid\"] = 1.0\n",
    "new_train16.loc[~np.isnan(new_train16[\"heatingorsystemtypeid\"]), \"heatingorsystemtypeid\"] = 1.0\n",
    "new_train16.loc[np.isnan(new_train16[\"airconditioningtypeid\"]), \"airconditioningtypeid\"] = 0.0\n",
    "new_train16.loc[np.isnan(new_train16[\"heatingorsystemtypeid\"]), \"heatingorsystemtypeid\"] = 0.0\n",
    "\n",
    "new_train16[[\"airconditioningtypeid\", \"heatingorsystemtypeid\"]].isna().sum()"
   ]
  },
  {
   "cell_type": "code",
   "execution_count": 57,
   "metadata": {},
   "outputs": [
    {
     "data": {
      "text/html": [
       "<div>\n",
       "<style scoped>\n",
       "    .dataframe tbody tr th:only-of-type {\n",
       "        vertical-align: middle;\n",
       "    }\n",
       "\n",
       "    .dataframe tbody tr th {\n",
       "        vertical-align: top;\n",
       "    }\n",
       "\n",
       "    .dataframe thead th {\n",
       "        text-align: right;\n",
       "    }\n",
       "</style>\n",
       "<table border=\"1\" class=\"dataframe\">\n",
       "  <thead>\n",
       "    <tr style=\"text-align: right;\">\n",
       "      <th></th>\n",
       "      <th>airconditioningtypeid</th>\n",
       "      <th>heatingorsystemtypeid</th>\n",
       "      <th>logerror</th>\n",
       "    </tr>\n",
       "    <tr>\n",
       "      <th>parcelid</th>\n",
       "      <th></th>\n",
       "      <th></th>\n",
       "      <th></th>\n",
       "    </tr>\n",
       "  </thead>\n",
       "  <tbody>\n",
       "    <tr>\n",
       "      <th>10711738</th>\n",
       "      <td>1.0</td>\n",
       "      <td>1.0</td>\n",
       "      <td>0.0276</td>\n",
       "    </tr>\n",
       "    <tr>\n",
       "      <th>10711755</th>\n",
       "      <td>1.0</td>\n",
       "      <td>1.0</td>\n",
       "      <td>-0.0182</td>\n",
       "    </tr>\n",
       "    <tr>\n",
       "      <th>10711805</th>\n",
       "      <td>1.0</td>\n",
       "      <td>1.0</td>\n",
       "      <td>-0.1009</td>\n",
       "    </tr>\n",
       "    <tr>\n",
       "      <th>10711816</th>\n",
       "      <td>1.0</td>\n",
       "      <td>1.0</td>\n",
       "      <td>-0.0121</td>\n",
       "    </tr>\n",
       "    <tr>\n",
       "      <th>10711858</th>\n",
       "      <td>1.0</td>\n",
       "      <td>1.0</td>\n",
       "      <td>-0.0481</td>\n",
       "    </tr>\n",
       "  </tbody>\n",
       "</table>\n",
       "</div>"
      ],
      "text/plain": [
       "          airconditioningtypeid  heatingorsystemtypeid  logerror\n",
       "parcelid                                                        \n",
       "10711738                    1.0                    1.0    0.0276\n",
       "10711755                    1.0                    1.0   -0.0182\n",
       "10711805                    1.0                    1.0   -0.1009\n",
       "10711816                    1.0                    1.0   -0.0121\n",
       "10711858                    1.0                    1.0   -0.0481"
      ]
     },
     "execution_count": 57,
     "metadata": {},
     "output_type": "execute_result"
    }
   ],
   "source": [
    "df = new_train16[[\"airconditioningtypeid\", \"heatingorsystemtypeid\", \"logerror\"]]\n",
    "df[[\"airconditioningtypeid\", \"heatingorsystemtypeid\"]].astype('category')\n",
    "df.head()"
   ]
  },
  {
   "cell_type": "code",
   "execution_count": 58,
   "metadata": {},
   "outputs": [
    {
     "name": "stdout",
     "output_type": "stream",
     "text": [
      "                            OLS Regression Results                            \n",
      "==============================================================================\n",
      "Dep. Variable:               logerror   R-squared:                       0.000\n",
      "Model:                            OLS   Adj. R-squared:                  0.000\n",
      "Method:                 Least Squares   F-statistic:                     4.024\n",
      "Date:                Mon, 02 Jul 2018   Prob (F-statistic):             0.0179\n",
      "Time:                        23:43:52   Log-Likelihood:                 36739.\n",
      "No. Observations:               90275   AIC:                        -7.347e+04\n",
      "Df Residuals:                   90272   BIC:                        -7.344e+04\n",
      "Df Model:                           2                                         \n",
      "Covariance Type:            nonrobust                                         \n",
      "===================================================================================================\n",
      "                                      coef    std err          t      P>|t|      [0.025      0.975]\n",
      "---------------------------------------------------------------------------------------------------\n",
      "Intercept                           0.0118      0.001     13.543      0.000       0.010       0.014\n",
      "C(airconditioningtypeid)[T.1.0]     0.0034      0.001      2.702      0.007       0.001       0.006\n",
      "C(heatingorsystemtypeid)[T.1.0]    -0.0024      0.001     -1.950      0.051      -0.005    1.26e-05\n",
      "==============================================================================\n",
      "Omnibus:                    66235.025   Durbin-Watson:                   1.927\n",
      "Prob(Omnibus):                  0.000   Jarque-Bera (JB):         65007720.587\n",
      "Skew:                           2.173   Prob(JB):                         0.00\n",
      "Kurtosis:                     134.391   Cond. No.                         3.64\n",
      "==============================================================================\n",
      "\n",
      "Warnings:\n",
      "[1] Standard Errors assume that the covariance matrix of the errors is correctly specified.\n"
     ]
    }
   ],
   "source": [
    "model_hvac16 = sm.OLS.from_formula(\"logerror ~  C(airconditioningtypeid) + C(heatingorsystemtypeid)\",df)\n",
    "result_hvac16 = model_hvac16.fit()\n",
    "print(result_hvac16.summary())"
   ]
  },
  {
   "cell_type": "code",
   "execution_count": 59,
   "metadata": {
    "collapsed": true
   },
   "outputs": [],
   "source": [
    "dfX0 = new_train16[[\"airconditioningtypeid\", \"heatingorsystemtypeid\"]]\n",
    "dfX = sm.add_constant(dfX0)\n",
    "dfy = new_train16[[\"logerror\"]]\n",
    "df = pd.concat([dfX, dfy], axis=1)"
   ]
  },
  {
   "cell_type": "code",
   "execution_count": 60,
   "metadata": {},
   "outputs": [
    {
     "name": "stdout",
     "output_type": "stream",
     "text": [
      "                            OLS Regression Results                            \n",
      "==============================================================================\n",
      "Dep. Variable:               logerror   R-squared:                       0.000\n",
      "Model:                            OLS   Adj. R-squared:                  0.000\n",
      "Method:                 Least Squares   F-statistic:                     4.024\n",
      "Date:                Mon, 02 Jul 2018   Prob (F-statistic):             0.0179\n",
      "Time:                        23:43:55   Log-Likelihood:                 36739.\n",
      "No. Observations:               90275   AIC:                        -7.347e+04\n",
      "Df Residuals:                   90272   BIC:                        -7.344e+04\n",
      "Df Model:                           2                                         \n",
      "Covariance Type:            nonrobust                                         \n",
      "=========================================================================================\n",
      "                            coef    std err          t      P>|t|      [0.025      0.975]\n",
      "-----------------------------------------------------------------------------------------\n",
      "const                     0.0118      0.001     13.543      0.000       0.010       0.014\n",
      "airconditioningtypeid     0.0034      0.001      2.702      0.007       0.001       0.006\n",
      "heatingorsystemtypeid    -0.0024      0.001     -1.950      0.051      -0.005    1.26e-05\n",
      "==============================================================================\n",
      "Omnibus:                    66235.025   Durbin-Watson:                   1.927\n",
      "Prob(Omnibus):                  0.000   Jarque-Bera (JB):         65007720.587\n",
      "Skew:                           2.173   Prob(JB):                         0.00\n",
      "Kurtosis:                     134.391   Cond. No.                         3.64\n",
      "==============================================================================\n",
      "\n",
      "Warnings:\n",
      "[1] Standard Errors assume that the covariance matrix of the errors is correctly specified.\n"
     ]
    }
   ],
   "source": [
    "model = sm.OLS(dfy, dfX)\n",
    "result = model.fit()\n",
    "print(result.summary())"
   ]
  },
  {
   "cell_type": "markdown",
   "metadata": {},
   "source": [
    "### 그러므로 \"airconditioningtypeid\", \"heatingorsystemtypeid\" 둘만 봤을 경우 logerror와 크게 연관이 없다고 할 수 있다."
   ]
  },
  {
   "cell_type": "markdown",
   "metadata": {},
   "source": [
    "## Visualization"
   ]
  },
  {
   "cell_type": "markdown",
   "metadata": {},
   "source": [
    "#### original"
   ]
  },
  {
   "cell_type": "code",
   "execution_count": 33,
   "metadata": {},
   "outputs": [
    {
     "data": {
      "text/plain": [
       "<matplotlib.collections.PathCollection at 0x1795c014b38>"
      ]
     },
     "execution_count": 33,
     "metadata": {},
     "output_type": "execute_result"
    },
    {
     "data": {
      "image/png": "[encoded data removed]",
      "text/plain": [
       "<matplotlib.figure.Figure at 0x1790231b470>"
      ]
     },
     "metadata": {},
     "output_type": "display_data"
    }
   ],
   "source": [
    "pyplot.scatter(hvac_prop16[\"airconditioningtypeid\"], hvac_prop16[\"heatingorsystemtypeid\"])"
   ]
  },
  {
   "cell_type": "code",
   "execution_count": 39,
   "metadata": {},
   "outputs": [
    {
     "data": {
      "text/plain": [
       "<matplotlib.axes._subplots.AxesSubplot at 0x1795c48c5c0>"
      ]
     },
     "execution_count": 39,
     "metadata": {},
     "output_type": "execute_result"
    },
    {
     "data": {
      "image/png": "[encoded data removed]",
      "text/plain": [
       "<matplotlib.figure.Figure at 0x1795c8ad898>"
      ]
     },
     "metadata": {},
     "output_type": "display_data"
    }
   ],
   "source": [
    "sns.stripplot(x=\"airconditioningtypeid\", y=\"heatingorsystemtypeid\", data=hvac_prop16, jitter=True, color=\"0.4\")"
   ]
  },
  {
   "cell_type": "markdown",
   "metadata": {},
   "source": [
    "#### model - 1"
   ]
  },
  {
   "cell_type": "code",
   "execution_count": 53,
   "metadata": {},
   "outputs": [
    {
     "data": {
      "text/plain": [
       "<matplotlib.collections.PathCollection at 0x17903f254e0>"
      ]
     },
     "execution_count": 53,
     "metadata": {},
     "output_type": "execute_result"
    },
    {
     "data": {
      "image/png": "[encoded data removed]",
      "text/plain": [
       "<matplotlib.figure.Figure at 0x1795cc8d278>"
      ]
     },
     "metadata": {},
     "output_type": "display_data"
    }
   ],
   "source": [
    "pyplot.scatter(new_train16[\"airconditioningtypeid\"], new_train16[\"heatingorsystemtypeid\"])"
   ]
  },
  {
   "cell_type": "code",
   "execution_count": 54,
   "metadata": {},
   "outputs": [
    {
     "data": {
      "text/plain": [
       "<matplotlib.axes._subplots.AxesSubplot at 0x1795c0edf98>"
      ]
     },
     "execution_count": 54,
     "metadata": {},
     "output_type": "execute_result"
    },
    {
     "data": {
      "image/png": "[encoded data removed]",
      "text/plain": [
       "<matplotlib.figure.Figure at 0x1795c90aef0>"
      ]
     },
     "metadata": {},
     "output_type": "display_data"
    }
   ],
   "source": [
    "sns.stripplot(x=\"airconditioningtypeid\", y=\"heatingorsystemtypeid\", data=new_train16, jitter=True, color=\"0.4\")"
   ]
  },
  {
   "cell_type": "markdown",
   "metadata": {},
   "source": [
    "#### model - 2"
   ]
  },
  {
   "cell_type": "code",
   "execution_count": 44,
   "metadata": {},
   "outputs": [
    {
     "data": {
      "text/plain": [
       "<matplotlib.collections.PathCollection at 0x179034fa6d8>"
      ]
     },
     "execution_count": 44,
     "metadata": {},
     "output_type": "execute_result"
    },
    {
     "data": {
      "image/png": "[encoded data removed]",
      "text/plain": [
       "<matplotlib.figure.Figure at 0x1795cc53940>"
      ]
     },
     "metadata": {},
     "output_type": "display_data"
    }
   ],
   "source": [
    "pyplot.scatter(new_train16[\"airconditioningtypeid\"], new_train16[\"heatingorsystemtypeid\"])"
   ]
  },
  {
   "cell_type": "code",
   "execution_count": 45,
   "metadata": {},
   "outputs": [
    {
     "data": {
      "text/plain": [
       "<matplotlib.axes._subplots.AxesSubplot at 0x1795cccbeb8>"
      ]
     },
     "execution_count": 45,
     "metadata": {},
     "output_type": "execute_result"
    },
    {
     "data": {
      "image/png": "[encoded data removed]",
      "text/plain": [
       "<matplotlib.figure.Figure at 0x17903516908>"
      ]
     },
     "metadata": {},
     "output_type": "display_data"
    }
   ],
   "source": [
    "sns.stripplot(x=\"airconditioningtypeid\", y=\"heatingorsystemtypeid\", data=new_train16, jitter=True, color=\"0.4\")"
   ]
  },
  {
   "cell_type": "code",
   "execution_count": null,
   "metadata": {
    "collapsed": true
   },
   "outputs": [],
   "source": []
  }
 ],
 "metadata": {
  "kernelspec": {
   "display_name": "Python 3",
   "language": "python",
   "name": "python3"
  },
  "language_info": {
   "codemirror_mode": {
    "name": "ipython",
    "version": 3
   },
   "file_extension": ".py",
   "mimetype": "text/x-python",
   "name": "python",
   "nbconvert_exporter": "python",
   "pygments_lexer": "ipython3",
   "version": "3.7.0"
  }
 },
 "nbformat": 4,
 "nbformat_minor": 2
}
