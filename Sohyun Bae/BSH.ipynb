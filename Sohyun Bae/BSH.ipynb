{
 "cells": [
  {
   "cell_type": "code",
   "execution_count": 1,
   "metadata": {},
   "outputs": [
    {
     "name": "stdout",
     "output_type": "stream",
     "text": [
      "Interactive namespace is empty.\n"
     ]
    }
   ],
   "source": [
    "%whos"
   ]
  },
  {
   "cell_type": "code",
   "execution_count": 1,
   "metadata": {},
   "outputs": [
    {
     "name": "stderr",
     "output_type": "stream",
     "text": [
      "C:\\ProgramData\\Anaconda3\\lib\\site-packages\\IPython\\core\\interactiveshell.py:2728: DtypeWarning: Columns (49) have mixed types. Specify dtype option on import or set low_memory=False.\n",
      "  interactivity=interactivity, compiler=compiler, result=result)\n"
     ]
    }
   ],
   "source": [
    "properties = pd.read_csv(\"properties_2017.csv\")"
   ]
  },
  {
   "cell_type": "code",
   "execution_count": 30,
   "metadata": {},
   "outputs": [],
   "source": [
    "len_properties = len(properties)"
   ]
  },
  {
   "cell_type": "code",
   "execution_count": 2,
   "metadata": {},
   "outputs": [
    {
     "data": {
      "text/html": [
       "<div>\n",
       "<style scoped>\n",
       "    .dataframe tbody tr th:only-of-type {\n",
       "        vertical-align: middle;\n",
       "    }\n",
       "\n",
       "    .dataframe tbody tr th {\n",
       "        vertical-align: top;\n",
       "    }\n",
       "\n",
       "    .dataframe thead th {\n",
       "        text-align: right;\n",
       "    }\n",
       "</style>\n",
       "<table border=\"1\" class=\"dataframe\">\n",
       "  <thead>\n",
       "    <tr style=\"text-align: right;\">\n",
       "      <th></th>\n",
       "      <th>count</th>\n",
       "      <th>mean</th>\n",
       "      <th>std</th>\n",
       "      <th>min</th>\n",
       "      <th>25%</th>\n",
       "      <th>50%</th>\n",
       "      <th>75%</th>\n",
       "      <th>max</th>\n",
       "    </tr>\n",
       "  </thead>\n",
       "  <tbody>\n",
       "    <tr>\n",
       "      <th>garagecarcnt</th>\n",
       "      <td>891008.0</td>\n",
       "      <td>1.826581e+00</td>\n",
       "      <td>0.608934</td>\n",
       "      <td>0.000000e+00</td>\n",
       "      <td>2.000000e+00</td>\n",
       "      <td>2.000000e+00</td>\n",
       "      <td>2.000000e+00</td>\n",
       "      <td>2.500000e+01</td>\n",
       "    </tr>\n",
       "    <tr>\n",
       "      <th>garagetotalsqft</th>\n",
       "      <td>891008.0</td>\n",
       "      <td>3.831562e+02</td>\n",
       "      <td>246.219420</td>\n",
       "      <td>0.000000e+00</td>\n",
       "      <td>3.120000e+02</td>\n",
       "      <td>4.410000e+02</td>\n",
       "      <td>4.940000e+02</td>\n",
       "      <td>7.749000e+03</td>\n",
       "    </tr>\n",
       "    <tr>\n",
       "      <th>heatingorsystemtypeid</th>\n",
       "      <td>1869164.0</td>\n",
       "      <td>4.083750e+00</td>\n",
       "      <td>3.286780</td>\n",
       "      <td>1.000000e+00</td>\n",
       "      <td>2.000000e+00</td>\n",
       "      <td>2.000000e+00</td>\n",
       "      <td>7.000000e+00</td>\n",
       "      <td>2.400000e+01</td>\n",
       "    </tr>\n",
       "    <tr>\n",
       "      <th>latitude</th>\n",
       "      <td>2982285.0</td>\n",
       "      <td>3.400131e+07</td>\n",
       "      <td>243515.706879</td>\n",
       "      <td>3.332439e+07</td>\n",
       "      <td>3.382740e+07</td>\n",
       "      <td>3.400807e+07</td>\n",
       "      <td>3.416186e+07</td>\n",
       "      <td>3.481965e+07</td>\n",
       "    </tr>\n",
       "    <tr>\n",
       "      <th>longitude</th>\n",
       "      <td>2982285.0</td>\n",
       "      <td>-1.182017e+08</td>\n",
       "      <td>345591.772190</td>\n",
       "      <td>-1.194758e+08</td>\n",
       "      <td>-1.183929e+08</td>\n",
       "      <td>-1.181721e+08</td>\n",
       "      <td>-1.179489e+08</td>\n",
       "      <td>-1.175543e+08</td>\n",
       "    </tr>\n",
       "    <tr>\n",
       "      <th>lotsizesquarefeet</th>\n",
       "      <td>2712511.0</td>\n",
       "      <td>2.260376e+04</td>\n",
       "      <td>249983.626731</td>\n",
       "      <td>1.000000e+02</td>\n",
       "      <td>5.683000e+03</td>\n",
       "      <td>7.000000e+03</td>\n",
       "      <td>9.893000e+03</td>\n",
       "      <td>3.710005e+08</td>\n",
       "    </tr>\n",
       "    <tr>\n",
       "      <th>poolcnt</th>\n",
       "      <td>539632.0</td>\n",
       "      <td>1.000000e+00</td>\n",
       "      <td>0.000000</td>\n",
       "      <td>1.000000e+00</td>\n",
       "      <td>1.000000e+00</td>\n",
       "      <td>1.000000e+00</td>\n",
       "      <td>1.000000e+00</td>\n",
       "      <td>1.000000e+00</td>\n",
       "    </tr>\n",
       "    <tr>\n",
       "      <th>poolsizesum</th>\n",
       "      <td>27958.0</td>\n",
       "      <td>5.197154e+02</td>\n",
       "      <td>191.325869</td>\n",
       "      <td>1.900000e+01</td>\n",
       "      <td>4.300000e+02</td>\n",
       "      <td>4.950000e+02</td>\n",
       "      <td>5.940000e+02</td>\n",
       "      <td>1.741000e+04</td>\n",
       "    </tr>\n",
       "    <tr>\n",
       "      <th>pooltypeid10</th>\n",
       "      <td>17006.0</td>\n",
       "      <td>1.000000e+00</td>\n",
       "      <td>0.000000</td>\n",
       "      <td>1.000000e+00</td>\n",
       "      <td>1.000000e+00</td>\n",
       "      <td>1.000000e+00</td>\n",
       "      <td>1.000000e+00</td>\n",
       "      <td>1.000000e+00</td>\n",
       "    </tr>\n",
       "    <tr>\n",
       "      <th>pooltypeid2</th>\n",
       "      <td>33056.0</td>\n",
       "      <td>1.000000e+00</td>\n",
       "      <td>0.000000</td>\n",
       "      <td>1.000000e+00</td>\n",
       "      <td>1.000000e+00</td>\n",
       "      <td>1.000000e+00</td>\n",
       "      <td>1.000000e+00</td>\n",
       "      <td>1.000000e+00</td>\n",
       "    </tr>\n",
       "    <tr>\n",
       "      <th>pooltypeid7</th>\n",
       "      <td>505895.0</td>\n",
       "      <td>1.000000e+00</td>\n",
       "      <td>0.000000</td>\n",
       "      <td>1.000000e+00</td>\n",
       "      <td>1.000000e+00</td>\n",
       "      <td>1.000000e+00</td>\n",
       "      <td>1.000000e+00</td>\n",
       "      <td>1.000000e+00</td>\n",
       "    </tr>\n",
       "    <tr>\n",
       "      <th>propertylandusetypeid</th>\n",
       "      <td>2982285.0</td>\n",
       "      <td>2.600508e+02</td>\n",
       "      <td>15.931208</td>\n",
       "      <td>3.100000e+01</td>\n",
       "      <td>2.610000e+02</td>\n",
       "      <td>2.610000e+02</td>\n",
       "      <td>2.610000e+02</td>\n",
       "      <td>2.790000e+02</td>\n",
       "    </tr>\n",
       "    <tr>\n",
       "      <th>rawcensustractandblock</th>\n",
       "      <td>2982285.0</td>\n",
       "      <td>6.048367e+07</td>\n",
       "      <td>200891.402459</td>\n",
       "      <td>6.037101e+07</td>\n",
       "      <td>6.037400e+07</td>\n",
       "      <td>6.037571e+07</td>\n",
       "      <td>6.059042e+07</td>\n",
       "      <td>6.111009e+07</td>\n",
       "    </tr>\n",
       "    <tr>\n",
       "      <th>regionidcity</th>\n",
       "      <td>2923089.0</td>\n",
       "      <td>3.498766e+04</td>\n",
       "      <td>50709.676616</td>\n",
       "      <td>3.491000e+03</td>\n",
       "      <td>1.244700e+04</td>\n",
       "      <td>2.521800e+04</td>\n",
       "      <td>4.545700e+04</td>\n",
       "      <td>3.965560e+05</td>\n",
       "    </tr>\n",
       "    <tr>\n",
       "      <th>regionidcounty</th>\n",
       "      <td>2982285.0</td>\n",
       "      <td>2.569085e+03</td>\n",
       "      <td>788.683964</td>\n",
       "      <td>1.286000e+03</td>\n",
       "      <td>1.286000e+03</td>\n",
       "      <td>3.101000e+03</td>\n",
       "      <td>3.101000e+03</td>\n",
       "      <td>3.101000e+03</td>\n",
       "    </tr>\n",
       "    <tr>\n",
       "      <th>regionidneighborhood</th>\n",
       "      <td>1156741.0</td>\n",
       "      <td>1.935387e+05</td>\n",
       "      <td>165725.266428</td>\n",
       "      <td>6.952000e+03</td>\n",
       "      <td>4.673600e+04</td>\n",
       "      <td>1.189200e+05</td>\n",
       "      <td>2.748000e+05</td>\n",
       "      <td>7.641670e+05</td>\n",
       "    </tr>\n",
       "    <tr>\n",
       "      <th>regionidzip</th>\n",
       "      <td>2972503.0</td>\n",
       "      <td>9.655329e+04</td>\n",
       "      <td>3680.815407</td>\n",
       "      <td>9.598200e+04</td>\n",
       "      <td>9.618000e+04</td>\n",
       "      <td>9.637700e+04</td>\n",
       "      <td>9.697400e+04</td>\n",
       "      <td>3.996750e+05</td>\n",
       "    </tr>\n",
       "    <tr>\n",
       "      <th>roomcnt</th>\n",
       "      <td>2982248.0</td>\n",
       "      <td>1.474357e+00</td>\n",
       "      <td>2.839869</td>\n",
       "      <td>0.000000e+00</td>\n",
       "      <td>0.000000e+00</td>\n",
       "      <td>0.000000e+00</td>\n",
       "      <td>0.000000e+00</td>\n",
       "      <td>9.600000e+01</td>\n",
       "    </tr>\n",
       "    <tr>\n",
       "      <th>storytypeid</th>\n",
       "      <td>1623.0</td>\n",
       "      <td>7.000000e+00</td>\n",
       "      <td>0.000000</td>\n",
       "      <td>7.000000e+00</td>\n",
       "      <td>7.000000e+00</td>\n",
       "      <td>7.000000e+00</td>\n",
       "      <td>7.000000e+00</td>\n",
       "      <td>7.000000e+00</td>\n",
       "    </tr>\n",
       "  </tbody>\n",
       "</table>\n",
       "</div>"
      ],
      "text/plain": [
       "                            count          mean            std           min  \\\n",
       "garagecarcnt             891008.0  1.826581e+00       0.608934  0.000000e+00   \n",
       "garagetotalsqft          891008.0  3.831562e+02     246.219420  0.000000e+00   \n",
       "heatingorsystemtypeid   1869164.0  4.083750e+00       3.286780  1.000000e+00   \n",
       "latitude                2982285.0  3.400131e+07  243515.706879  3.332439e+07   \n",
       "longitude               2982285.0 -1.182017e+08  345591.772190 -1.194758e+08   \n",
       "lotsizesquarefeet       2712511.0  2.260376e+04  249983.626731  1.000000e+02   \n",
       "poolcnt                  539632.0  1.000000e+00       0.000000  1.000000e+00   \n",
       "poolsizesum               27958.0  5.197154e+02     191.325869  1.900000e+01   \n",
       "pooltypeid10              17006.0  1.000000e+00       0.000000  1.000000e+00   \n",
       "pooltypeid2               33056.0  1.000000e+00       0.000000  1.000000e+00   \n",
       "pooltypeid7              505895.0  1.000000e+00       0.000000  1.000000e+00   \n",
       "propertylandusetypeid   2982285.0  2.600508e+02      15.931208  3.100000e+01   \n",
       "rawcensustractandblock  2982285.0  6.048367e+07  200891.402459  6.037101e+07   \n",
       "regionidcity            2923089.0  3.498766e+04   50709.676616  3.491000e+03   \n",
       "regionidcounty          2982285.0  2.569085e+03     788.683964  1.286000e+03   \n",
       "regionidneighborhood    1156741.0  1.935387e+05  165725.266428  6.952000e+03   \n",
       "regionidzip             2972503.0  9.655329e+04    3680.815407  9.598200e+04   \n",
       "roomcnt                 2982248.0  1.474357e+00       2.839869  0.000000e+00   \n",
       "storytypeid                1623.0  7.000000e+00       0.000000  7.000000e+00   \n",
       "\n",
       "                                 25%           50%           75%           max  \n",
       "garagecarcnt            2.000000e+00  2.000000e+00  2.000000e+00  2.500000e+01  \n",
       "garagetotalsqft         3.120000e+02  4.410000e+02  4.940000e+02  7.749000e+03  \n",
       "heatingorsystemtypeid   2.000000e+00  2.000000e+00  7.000000e+00  2.400000e+01  \n",
       "latitude                3.382740e+07  3.400807e+07  3.416186e+07  3.481965e+07  \n",
       "longitude              -1.183929e+08 -1.181721e+08 -1.179489e+08 -1.175543e+08  \n",
       "lotsizesquarefeet       5.683000e+03  7.000000e+03  9.893000e+03  3.710005e+08  \n",
       "poolcnt                 1.000000e+00  1.000000e+00  1.000000e+00  1.000000e+00  \n",
       "poolsizesum             4.300000e+02  4.950000e+02  5.940000e+02  1.741000e+04  \n",
       "pooltypeid10            1.000000e+00  1.000000e+00  1.000000e+00  1.000000e+00  \n",
       "pooltypeid2             1.000000e+00  1.000000e+00  1.000000e+00  1.000000e+00  \n",
       "pooltypeid7             1.000000e+00  1.000000e+00  1.000000e+00  1.000000e+00  \n",
       "propertylandusetypeid   2.610000e+02  2.610000e+02  2.610000e+02  2.790000e+02  \n",
       "rawcensustractandblock  6.037400e+07  6.037571e+07  6.059042e+07  6.111009e+07  \n",
       "regionidcity            1.244700e+04  2.521800e+04  4.545700e+04  3.965560e+05  \n",
       "regionidcounty          1.286000e+03  3.101000e+03  3.101000e+03  3.101000e+03  \n",
       "regionidneighborhood    4.673600e+04  1.189200e+05  2.748000e+05  7.641670e+05  \n",
       "regionidzip             9.618000e+04  9.637700e+04  9.697400e+04  3.996750e+05  \n",
       "roomcnt                 0.000000e+00  0.000000e+00  0.000000e+00  9.600000e+01  \n",
       "storytypeid             7.000000e+00  7.000000e+00  7.000000e+00  7.000000e+00  "
      ]
     },
     "execution_count": 2,
     "metadata": {},
     "output_type": "execute_result"
    }
   ],
   "source": [
    "properties.describe().iloc[:, 20:39].T"
   ]
  },
  {
   "cell_type": "code",
   "execution_count": 6,
   "metadata": {},
   "outputs": [
    {
     "data": {
      "text/plain": [
       "(Index(['parcelid', 'airconditioningtypeid', 'architecturalstyletypeid',\n",
       "        'basementsqft', 'bathroomcnt', 'bedroomcnt', 'buildingclasstypeid',\n",
       "        'buildingqualitytypeid', 'calculatedbathnbr', 'decktypeid',\n",
       "        'finishedfloor1squarefeet', 'calculatedfinishedsquarefeet',\n",
       "        'finishedsquarefeet12', 'finishedsquarefeet13', 'finishedsquarefeet15',\n",
       "        'finishedsquarefeet50', 'finishedsquarefeet6', 'fips', 'fireplacecnt',\n",
       "        'fullbathcnt', 'garagecarcnt', 'garagetotalsqft', 'hashottuborspa',\n",
       "        'heatingorsystemtypeid', 'latitude', 'longitude', 'lotsizesquarefeet',\n",
       "        'poolcnt', 'poolsizesum', 'pooltypeid10', 'pooltypeid2', 'pooltypeid7',\n",
       "        'propertycountylandusecode', 'propertylandusetypeid',\n",
       "        'propertyzoningdesc', 'rawcensustractandblock', 'regionidcity',\n",
       "        'regionidcounty', 'regionidneighborhood', 'regionidzip', 'roomcnt',\n",
       "        'storytypeid', 'threequarterbathnbr', 'typeconstructiontypeid',\n",
       "        'unitcnt', 'yardbuildingsqft17', 'yardbuildingsqft26', 'yearbuilt',\n",
       "        'numberofstories', 'fireplaceflag', 'structuretaxvaluedollarcnt',\n",
       "        'taxvaluedollarcnt', 'assessmentyear', 'landtaxvaluedollarcnt',\n",
       "        'taxamount', 'taxdelinquencyflag', 'taxdelinquencyyear',\n",
       "        'censustractandblock'],\n",
       "       dtype='object'), 58)"
      ]
     },
     "execution_count": 6,
     "metadata": {},
     "output_type": "execute_result"
    }
   ],
   "source": [
    "properties.keys(), len(properties.columns)"
   ]
  },
  {
   "cell_type": "code",
   "execution_count": 8,
   "metadata": {},
   "outputs": [
    {
     "ename": "AttributeError",
     "evalue": "'RangeIndex' object has no attribute 'tail'",
     "output_type": "error",
     "traceback": [
      "\u001b[1;31m---------------------------------------------------------------------------\u001b[0m",
      "\u001b[1;31mAttributeError\u001b[0m                            Traceback (most recent call last)",
      "\u001b[1;32m<ipython-input-8-4b096fb03ef9>\u001b[0m in \u001b[0;36m<module>\u001b[1;34m()\u001b[0m\n\u001b[1;32m----> 1\u001b[1;33m \u001b[0mproperties\u001b[0m\u001b[1;33m.\u001b[0m\u001b[0mindex\u001b[0m\u001b[1;33m.\u001b[0m\u001b[0mtail\u001b[0m\u001b[1;33m(\u001b[0m\u001b[1;36m10\u001b[0m\u001b[1;33m)\u001b[0m\u001b[1;33m\u001b[0m\u001b[0m\n\u001b[0m",
      "\u001b[1;31mAttributeError\u001b[0m: 'RangeIndex' object has no attribute 'tail'"
     ]
    }
   ],
   "source": [
    "properties.index.tail(10)"
   ]
  },
  {
   "cell_type": "code",
   "execution_count": 15,
   "metadata": {},
   "outputs": [
    {
     "data": {
      "text/plain": [
       "(20, 38)"
      ]
     },
     "execution_count": 15,
     "metadata": {},
     "output_type": "execute_result"
    }
   ],
   "source": [
    "list(properties.columns).index('garagecarcnt'), list(properties.columns).index('regionidneighborhood')"
   ]
  },
  {
   "cell_type": "code",
   "execution_count": 4,
   "metadata": {},
   "outputs": [],
   "source": [
    "#properties.iloc[:, [20:39]].tail(10)\n",
    "myprop = properties.iloc[:, 20:39]"
   ]
  },
  {
   "cell_type": "code",
   "execution_count": 20,
   "metadata": {},
   "outputs": [
    {
     "data": {
      "text/html": [
       "<div>\n",
       "<style scoped>\n",
       "    .dataframe tbody tr th:only-of-type {\n",
       "        vertical-align: middle;\n",
       "    }\n",
       "\n",
       "    .dataframe tbody tr th {\n",
       "        vertical-align: top;\n",
       "    }\n",
       "\n",
       "    .dataframe thead th {\n",
       "        text-align: right;\n",
       "    }\n",
       "</style>\n",
       "<table border=\"1\" class=\"dataframe\">\n",
       "  <thead>\n",
       "    <tr style=\"text-align: right;\">\n",
       "      <th></th>\n",
       "      <th>parcelid</th>\n",
       "      <th>garagecarcnt</th>\n",
       "    </tr>\n",
       "  </thead>\n",
       "  <tbody>\n",
       "    <tr>\n",
       "      <th>0</th>\n",
       "      <td>10754147</td>\n",
       "      <td>NaN</td>\n",
       "    </tr>\n",
       "    <tr>\n",
       "      <th>1</th>\n",
       "      <td>10759547</td>\n",
       "      <td>NaN</td>\n",
       "    </tr>\n",
       "    <tr>\n",
       "      <th>2</th>\n",
       "      <td>10843547</td>\n",
       "      <td>NaN</td>\n",
       "    </tr>\n",
       "    <tr>\n",
       "      <th>3</th>\n",
       "      <td>10859147</td>\n",
       "      <td>NaN</td>\n",
       "    </tr>\n",
       "    <tr>\n",
       "      <th>4</th>\n",
       "      <td>10879947</td>\n",
       "      <td>NaN</td>\n",
       "    </tr>\n",
       "    <tr>\n",
       "      <th>5</th>\n",
       "      <td>10898347</td>\n",
       "      <td>NaN</td>\n",
       "    </tr>\n",
       "    <tr>\n",
       "      <th>6</th>\n",
       "      <td>10933547</td>\n",
       "      <td>NaN</td>\n",
       "    </tr>\n",
       "    <tr>\n",
       "      <th>7</th>\n",
       "      <td>10940747</td>\n",
       "      <td>NaN</td>\n",
       "    </tr>\n",
       "    <tr>\n",
       "      <th>8</th>\n",
       "      <td>10954547</td>\n",
       "      <td>NaN</td>\n",
       "    </tr>\n",
       "    <tr>\n",
       "      <th>9</th>\n",
       "      <td>10976347</td>\n",
       "      <td>NaN</td>\n",
       "    </tr>\n",
       "    <tr>\n",
       "      <th>10</th>\n",
       "      <td>11070347</td>\n",
       "      <td>NaN</td>\n",
       "    </tr>\n",
       "  </tbody>\n",
       "</table>\n",
       "</div>"
      ],
      "text/plain": [
       "    parcelid  garagecarcnt\n",
       "0   10754147           NaN\n",
       "1   10759547           NaN\n",
       "2   10843547           NaN\n",
       "3   10859147           NaN\n",
       "4   10879947           NaN\n",
       "5   10898347           NaN\n",
       "6   10933547           NaN\n",
       "7   10940747           NaN\n",
       "8   10954547           NaN\n",
       "9   10976347           NaN\n",
       "10  11070347           NaN"
      ]
     },
     "execution_count": 20,
     "metadata": {},
     "output_type": "execute_result"
    }
   ],
   "source": [
    "properties.loc[0:10,['parcelid','garagecarcnt']]"
   ]
  },
  {
   "cell_type": "code",
   "execution_count": 47,
   "metadata": {},
   "outputs": [
    {
     "ename": "AttributeError",
     "evalue": "'Series' object has no attribute 'merge'",
     "output_type": "error",
     "traceback": [
      "\u001b[1;31m---------------------------------------------------------------------------\u001b[0m",
      "\u001b[1;31mAttributeError\u001b[0m                            Traceback (most recent call last)",
      "\u001b[1;32m<ipython-input-47-30a23f6ea675>\u001b[0m in \u001b[0;36m<module>\u001b[1;34m()\u001b[0m\n\u001b[0;32m      1\u001b[0m \u001b[0mind\u001b[0m \u001b[1;33m=\u001b[0m \u001b[0mproperties\u001b[0m\u001b[1;33m[\u001b[0m\u001b[1;34m\"parcelid\"\u001b[0m\u001b[1;33m]\u001b[0m\u001b[1;33m\u001b[0m\u001b[0m\n\u001b[1;32m----> 2\u001b[1;33m \u001b[0mmyprop\u001b[0m \u001b[1;33m=\u001b[0m \u001b[0mind\u001b[0m\u001b[1;33m.\u001b[0m\u001b[0mmerge\u001b[0m\u001b[1;33m(\u001b[0m\u001b[0mleft\u001b[0m\u001b[1;33m=\u001b[0m\u001b[0mind\u001b[0m\u001b[1;33m,\u001b[0m \u001b[0mright\u001b[0m\u001b[1;33m=\u001b[0m\u001b[0mmyprop\u001b[0m\u001b[1;33m)\u001b[0m\u001b[1;33m\u001b[0m\u001b[0m\n\u001b[0m\u001b[0;32m      3\u001b[0m \u001b[0mmyprop\u001b[0m\u001b[1;33m.\u001b[0m\u001b[0mtail\u001b[0m\u001b[1;33m(\u001b[0m\u001b[1;33m)\u001b[0m\u001b[1;33m\u001b[0m\u001b[0m\n",
      "\u001b[1;32mC:\\ProgramData\\Anaconda3\\lib\\site-packages\\pandas\\core\\generic.py\u001b[0m in \u001b[0;36m__getattr__\u001b[1;34m(self, name)\u001b[0m\n\u001b[0;32m   3612\u001b[0m             \u001b[1;32mif\u001b[0m \u001b[0mname\u001b[0m \u001b[1;32min\u001b[0m \u001b[0mself\u001b[0m\u001b[1;33m.\u001b[0m\u001b[0m_info_axis\u001b[0m\u001b[1;33m:\u001b[0m\u001b[1;33m\u001b[0m\u001b[0m\n\u001b[0;32m   3613\u001b[0m                 \u001b[1;32mreturn\u001b[0m \u001b[0mself\u001b[0m\u001b[1;33m[\u001b[0m\u001b[0mname\u001b[0m\u001b[1;33m]\u001b[0m\u001b[1;33m\u001b[0m\u001b[0m\n\u001b[1;32m-> 3614\u001b[1;33m             \u001b[1;32mreturn\u001b[0m \u001b[0mobject\u001b[0m\u001b[1;33m.\u001b[0m\u001b[0m__getattribute__\u001b[0m\u001b[1;33m(\u001b[0m\u001b[0mself\u001b[0m\u001b[1;33m,\u001b[0m \u001b[0mname\u001b[0m\u001b[1;33m)\u001b[0m\u001b[1;33m\u001b[0m\u001b[0m\n\u001b[0m\u001b[0;32m   3615\u001b[0m \u001b[1;33m\u001b[0m\u001b[0m\n\u001b[0;32m   3616\u001b[0m     \u001b[1;32mdef\u001b[0m \u001b[0m__setattr__\u001b[0m\u001b[1;33m(\u001b[0m\u001b[0mself\u001b[0m\u001b[1;33m,\u001b[0m \u001b[0mname\u001b[0m\u001b[1;33m,\u001b[0m \u001b[0mvalue\u001b[0m\u001b[1;33m)\u001b[0m\u001b[1;33m:\u001b[0m\u001b[1;33m\u001b[0m\u001b[0m\n",
      "\u001b[1;31mAttributeError\u001b[0m: 'Series' object has no attribute 'merge'"
     ]
    }
   ],
   "source": [
    "ind = properties[\"parcelid\"]\n"
   ]
  },
  {
   "cell_type": "code",
   "execution_count": 33,
   "metadata": {},
   "outputs": [
    {
     "name": "stdout",
     "output_type": "stream",
     "text": [
      "parcelid\n",
      "garagecarcnt\n",
      "garagetotalsqft\n",
      "hashottuborspa\n",
      "heatingorsystemtypeid\n",
      "latitude\n",
      "longitude\n",
      "lotsizesquarefeet\n",
      "poolcnt\n",
      "poolsizesum\n",
      "pooltypeid10\n",
      "pooltypeid2\n",
      "pooltypeid7\n",
      "propertycountylandusecode\n",
      "propertylandusetypeid\n",
      "propertyzoningdesc\n",
      "rawcensustractandblock\n",
      "regionidcity\n",
      "regionidcounty\n",
      "regionidneighborhood\n"
     ]
    }
   ],
   "source": [
    "for i in range(len(myprop.columns)):\n",
    "    print(myprop.columns[i], end='\\n')"
   ]
  },
  {
   "cell_type": "code",
   "execution_count": 43,
   "metadata": {
    "scrolled": true
   },
   "outputs": [
    {
     "name": "stdout",
     "output_type": "stream",
     "text": [
      "0          False\n",
      "1          False\n",
      "2          False\n",
      "3          False\n",
      "4          False\n",
      "5          False\n",
      "6          False\n",
      "7          False\n",
      "8          False\n",
      "9          False\n",
      "10         False\n",
      "11         False\n",
      "12         False\n",
      "13         False\n",
      "14         False\n",
      "15         False\n",
      "16         False\n",
      "17         False\n",
      "18         False\n",
      "19         False\n",
      "20         False\n",
      "21         False\n",
      "22         False\n",
      "23         False\n",
      "24         False\n",
      "25         False\n",
      "26         False\n",
      "27         False\n",
      "28         False\n",
      "29         False\n",
      "           ...  \n",
      "2985187    False\n",
      "2985188    False\n",
      "2985189    False\n",
      "2985190    False\n",
      "2985191    False\n",
      "2985192    False\n",
      "2985193    False\n",
      "2985194    False\n",
      "2985195    False\n",
      "2985196    False\n",
      "2985197    False\n",
      "2985198    False\n",
      "2985199    False\n",
      "2985200    False\n",
      "2985201    False\n",
      "2985202    False\n",
      "2985203    False\n",
      "2985204    False\n",
      "2985205    False\n",
      "2985206    False\n",
      "2985207    False\n",
      "2985208    False\n",
      "2985209    False\n",
      "2985210    False\n",
      "2985211    False\n",
      "2985212    False\n",
      "2985213    False\n",
      "2985214    False\n",
      "2985215    False\n",
      "2985216    False\n",
      "Name: propertylandusetypeid, Length: 2985217, dtype: bool\n"
     ]
    }
   ],
   "source": [
    "print(myprop.propertylandusetypeid.notnull())"
   ]
  },
  {
   "cell_type": "markdown",
   "metadata": {},
   "source": [
    "### propertyzoningdesc\n",
    "#### 토지용도\n",
    "- Property zoning description \n",
    "-  Description of the allowed land uses (zoning) for that property\n",
    "- data type : str + str \n",
    "- type count : 5651\n",
    "- length : 1982471\n",
    "- null : 1002746"
   ]
  },
  {
   "cell_type": "code",
   "execution_count": 33,
   "metadata": {},
   "outputs": [
    {
     "data": {
      "text/plain": [
       "1982471"
      ]
     },
     "execution_count": 33,
     "metadata": {},
     "output_type": "execute_result"
    }
   ],
   "source": [
    "len(propdes)"
   ]
  },
  {
   "cell_type": "code",
   "execution_count": 22,
   "metadata": {},
   "outputs": [],
   "source": [
    "propdes = properties.propertyzoningdesc[properties.propertyzoningdesc.notnull()]\n",
    "propertyzoningdescCount =propdes.value_counts()"
   ]
  },
  {
   "cell_type": "code",
   "execution_count": 29,
   "metadata": {},
   "outputs": [
    {
     "data": {
      "text/plain": [
       "1002746"
      ]
     },
     "execution_count": 29,
     "metadata": {},
     "output_type": "execute_result"
    }
   ],
   "source": [
    "2985217 - len(propdes)"
   ]
  },
  {
   "cell_type": "markdown",
   "metadata": {},
   "source": [
    "### rawcensustractandblock \n",
    "#### 위치정보\n",
    "-  Census tract and block ID combined - also contains blockgroup assignment by extension\n",
    "- 미 인구조사국의 GEOID 지리정보 ID. 정부에서 사용하는 국가통계, 법적, 인구추적용 ID인듯\n",
    "- datatype : float\n",
    "- digit : 7자리\n",
    "- length : 2982285\n",
    "\n",
    "### censustractandblock\n",
    "-  Census tract and block ID combined - also contains blockgroup assignment by extension\n",
    "- datatype :float\n",
    "- digit: 13자리\n",
    "- length: 2910232"
   ]
  },
  {
   "cell_type": "code",
   "execution_count": 43,
   "metadata": {
    "scrolled": true
   },
   "outputs": [
    {
     "data": {
      "text/plain": [
       "6.059052e+07    1576\n",
       "6.037920e+07    1455\n",
       "6.059052e+07     971\n",
       "6.059063e+07     895\n",
       "6.037137e+07     886\n",
       "6.037577e+07     824\n",
       "6.037920e+07     816\n",
       "6.037274e+07     812\n",
       "6.037277e+07     800\n",
       "6.059063e+07     793\n",
       "6.059052e+07     790\n",
       "6.111007e+07     774\n",
       "6.037920e+07     755\n",
       "6.059052e+07     753\n",
       "6.037208e+07     749\n",
       "6.059053e+07     720\n",
       "6.037142e+07     659\n",
       "6.037275e+07     639\n",
       "6.059022e+07     636\n",
       "6.111008e+07     631\n",
       "6.037236e+07     629\n",
       "6.037262e+07     611\n",
       "6.037261e+07     608\n",
       "6.037544e+07     598\n",
       "6.037113e+07     597\n",
       "6.059075e+07     594\n",
       "6.037140e+07     588\n",
       "6.059074e+07     584\n",
       "6.059032e+07     580\n",
       "6.059032e+07     572\n",
       "                ... \n",
       "6.037433e+07       1\n",
       "6.037703e+07       1\n",
       "6.037303e+07       1\n",
       "6.037800e+07       1\n",
       "6.037534e+07       1\n",
       "6.037702e+07       1\n",
       "6.037464e+07       1\n",
       "6.037208e+07       1\n",
       "6.037502e+07       1\n",
       "6.037502e+07       1\n",
       "6.037542e+07       1\n",
       "6.037403e+07       1\n",
       "6.037225e+07       1\n",
       "6.037406e+07       1\n",
       "6.037911e+07       1\n",
       "6.037901e+07       1\n",
       "6.037901e+07       1\n",
       "6.037311e+07       1\n",
       "6.037701e+07       1\n",
       "6.037536e+07       1\n",
       "6.037701e+07       1\n",
       "6.059099e+07       1\n",
       "6.037194e+07       1\n",
       "6.037911e+07       1\n",
       "6.059064e+07       1\n",
       "6.037555e+07       1\n",
       "6.037231e+07       1\n",
       "6.059011e+07       1\n",
       "6.037920e+07       1\n",
       "6.037402e+07       1\n",
       "Name: rawcensustractandblock, Length: 99513, dtype: int64"
      ]
     },
     "execution_count": 43,
     "metadata": {},
     "output_type": "execute_result"
    }
   ],
   "source": [
    "properties.rawcensustractandblock.value_counts()"
   ]
  },
  {
   "cell_type": "code",
   "execution_count": 42,
   "metadata": {
    "scrolled": true
   },
   "outputs": [
    {
     "data": {
      "text/plain": [
       "6.037920e+13    1171\n",
       "6.037137e+13     881\n",
       "6.037920e+13     811\n",
       "6.059063e+13     807\n",
       "6.059052e+13     806\n",
       "6.037277e+13     800\n",
       "6.037920e+13     779\n",
       "6.111007e+13     771\n",
       "6.037577e+13     752\n",
       "6.059052e+13     740\n",
       "6.037208e+13     718\n",
       "6.059053e+13     685\n",
       "6.037142e+13     650\n",
       "6.111008e+13     631\n",
       "6.037275e+13     630\n",
       "6.037236e+13     628\n",
       "6.059063e+13     613\n",
       "6.059052e+13     613\n",
       "6.059074e+13     609\n",
       "6.037262e+13     608\n",
       "6.037261e+13     599\n",
       "6.037296e+13     596\n",
       "6.059075e+13     593\n",
       "6.037113e+13     590\n",
       "6.037140e+13     586\n",
       "6.059074e+13     584\n",
       "6.059042e+13     582\n",
       "6.059032e+13     580\n",
       "6.037578e+13     569\n",
       "6.059032e+13     568\n",
       "                ... \n",
       "6.037911e+13       1\n",
       "6.037901e+13       1\n",
       "6.037530e+13       1\n",
       "6.059001e+13       1\n",
       "6.037209e+13       1\n",
       "6.037104e+13       1\n",
       "6.059086e+13       1\n",
       "6.037911e+13       1\n",
       "6.037600e+13       1\n",
       "6.037225e+13       1\n",
       "6.037311e+13       1\n",
       "6.037901e+13       1\n",
       "6.037536e+13       1\n",
       "6.037403e+13       1\n",
       "6.037462e+13       1\n",
       "6.059063e+13       1\n",
       "6.059012e+13       1\n",
       "6.037901e+13       1\n",
       "6.037461e+13       1\n",
       "6.037141e+13       1\n",
       "6.059032e+13       1\n",
       "6.037900e+13       1\n",
       "6.111001e+13       1\n",
       "6.111003e+13       1\n",
       "6.037241e+13       1\n",
       "6.037400e+13       1\n",
       "6.037911e+13       1\n",
       "6.037900e+13       1\n",
       "6.037604e+13       1\n",
       "6.059099e+13       1\n",
       "Name: censustractandblock, Length: 96755, dtype: int64"
      ]
     },
     "execution_count": 42,
     "metadata": {},
     "output_type": "execute_result"
    }
   ],
   "source": [
    "properties.censustractandblock.value_counts()"
   ]
  },
  {
   "cell_type": "markdown",
   "metadata": {},
   "source": [
    "### regionidcounty\n",
    "#### 위치정보\n",
    "\n",
    "- County in which the property is located\n",
    "- length : 2982285\n",
    "- datatype: float\n",
    "- digit : 4자리\n",
    "    - 3101\n",
    "    - 1286\n",
    "    - 2061\n",
    "    \n",
    "### regionidcity\n",
    "\n",
    "-  City in which the property is located (if any)\n",
    "- length: 2923089\n",
    "- datatype: float\n",
    "- digit : 최대 6자리\n",
    "    - 186가지 regionid \n",
    "\n",
    "### regionidzip\n",
    "\n",
    "-  Zip code in which the property is located\n",
    "- datatype: float\n",
    "- digit: 5자리\n",
    "    - 403가지 zipcode\n",
    "\n",
    "### regionidneighborhood\n",
    "\n",
    "- Neighborhood in which the property is located\n",
    "- datatype: float\n",
    "- digit : 최대 6자리\n",
    "    - 529가지 regionid"
   ]
  },
  {
   "cell_type": "code",
   "execution_count": 36,
   "metadata": {
    "scrolled": true
   },
   "outputs": [
    {
     "data": {
      "text/plain": [
       "3101.0    2012741\n",
       "1286.0     745800\n",
       "2061.0     223744\n",
       "Name: regionidcounty, dtype: int64"
      ]
     },
     "execution_count": 36,
     "metadata": {},
     "output_type": "execute_result"
    }
   ],
   "source": [
    "properties.regionidcounty.value_counts()"
   ]
  },
  {
   "cell_type": "code",
   "execution_count": 39,
   "metadata": {
    "scrolled": true
   },
   "outputs": [
    {
     "data": {
      "text/plain": [
       "12447.0     670868\n",
       "46298.0      93454\n",
       "16764.0      59793\n",
       "52650.0      58619\n",
       "25218.0      57013\n",
       "54311.0      54302\n",
       "5534.0       49123\n",
       "47568.0      47763\n",
       "40227.0      46279\n",
       "13150.0      42112\n",
       "34278.0      38791\n",
       "27110.0      37820\n",
       "45457.0      36090\n",
       "54722.0      35618\n",
       "24832.0      34448\n",
       "47019.0      33806\n",
       "33252.0      33336\n",
       "34543.0      32552\n",
       "12773.0      31381\n",
       "24812.0      30356\n",
       "20008.0      29232\n",
       "14542.0      25781\n",
       "53571.0      25035\n",
       "51239.0      24814\n",
       "396054.0     24589\n",
       "24174.0      24166\n",
       "12292.0      23034\n",
       "21412.0      22562\n",
       "32380.0      22465\n",
       "33612.0      22267\n",
       "             ...  \n",
       "3491.0        1076\n",
       "114834.0       798\n",
       "6822.0         781\n",
       "16389.0        760\n",
       "13232.0        717\n",
       "25271.0        696\n",
       "34037.0        666\n",
       "38980.0        623\n",
       "42091.0        597\n",
       "25621.0        582\n",
       "33312.0        448\n",
       "14906.0        425\n",
       "118880.0       402\n",
       "53162.0        274\n",
       "32927.0        183\n",
       "13311.0        182\n",
       "10815.0        110\n",
       "41484.0         86\n",
       "21395.0         77\n",
       "19202.0         24\n",
       "48211.0         23\n",
       "25535.0         23\n",
       "37882.0         20\n",
       "6285.0          19\n",
       "24797.0         17\n",
       "27512.0         12\n",
       "36078.0         12\n",
       "47913.0          7\n",
       "3980.0           6\n",
       "40633.0          3\n",
       "Name: regionidcity, Length: 186, dtype: int64"
      ]
     },
     "execution_count": 39,
     "metadata": {},
     "output_type": "execute_result"
    }
   ],
   "source": [
    "properties.regionidcity.value_counts()"
   ]
  },
  {
   "cell_type": "code",
   "execution_count": 40,
   "metadata": {},
   "outputs": [
    {
     "data": {
      "text/plain": [
       "2923089"
      ]
     },
     "execution_count": 40,
     "metadata": {},
     "output_type": "execute_result"
    }
   ],
   "source": [
    "properties.regionidcity.count()"
   ]
  },
  {
   "cell_type": "code",
   "execution_count": 41,
   "metadata": {
    "scrolled": true
   },
   "outputs": [
    {
     "data": {
      "text/plain": [
       "96987.0     22025\n",
       "96193.0     21756\n",
       "97118.0     20615\n",
       "97319.0     20337\n",
       "96964.0     19923\n",
       "97318.0     19880\n",
       "96368.0     19774\n",
       "96990.0     19215\n",
       "96962.0     17813\n",
       "97328.0     17322\n",
       "97116.0     17169\n",
       "97329.0     16583\n",
       "96361.0     16557\n",
       "97008.0     16209\n",
       "96186.0     16051\n",
       "97078.0     15798\n",
       "96996.0     15776\n",
       "96488.0     15676\n",
       "96364.0     15580\n",
       "96489.0     15528\n",
       "96206.0     15467\n",
       "96995.0     15282\n",
       "97083.0     15245\n",
       "96974.0     15162\n",
       "96505.0     15123\n",
       "96239.0     14996\n",
       "96370.0     14721\n",
       "96122.0     14709\n",
       "97004.0     14682\n",
       "96351.0     14361\n",
       "            ...  \n",
       "97324.0       647\n",
       "95995.0       560\n",
       "96148.0       531\n",
       "95998.0       530\n",
       "399675.0      433\n",
       "97108.0       396\n",
       "95991.0       379\n",
       "96002.0       331\n",
       "96226.0       305\n",
       "96039.0       195\n",
       "96329.0       100\n",
       "97092.0        35\n",
       "96467.0        35\n",
       "97339.0        35\n",
       "97177.0        19\n",
       "96500.0        19\n",
       "97111.0        10\n",
       "97164.0         8\n",
       "97088.0         5\n",
       "97336.0         4\n",
       "96114.0         2\n",
       "97185.0         2\n",
       "96069.0         2\n",
       "96859.0         2\n",
       "96953.0         1\n",
       "97096.0         1\n",
       "96034.0         1\n",
       "96313.0         1\n",
       "96988.0         1\n",
       "96453.0         1\n",
       "Name: regionidzip, Length: 403, dtype: int64"
      ]
     },
     "execution_count": 41,
     "metadata": {},
     "output_type": "execute_result"
    }
   ],
   "source": [
    "properties.regionidzip.value_counts()"
   ]
  },
  {
   "cell_type": "code",
   "execution_count": 44,
   "metadata": {
    "scrolled": true
   },
   "outputs": [
    {
     "data": {
      "text/plain": [
       "118208.0    32244\n",
       "268496.0    23182\n",
       "48570.0     21188\n",
       "27080.0     18883\n",
       "37739.0     18648\n",
       "54300.0     17745\n",
       "33183.0     16952\n",
       "34213.0     16611\n",
       "51906.0     15653\n",
       "41131.0     15446\n",
       "48200.0     14860\n",
       "31817.0     14691\n",
       "276476.0    14565\n",
       "46736.0     14357\n",
       "113455.0    14352\n",
       "40548.0     13320\n",
       "268588.0    12894\n",
       "274049.0    12580\n",
       "274514.0    12454\n",
       "41466.0     11162\n",
       "40215.0     10831\n",
       "6952.0      10817\n",
       "27987.0     10616\n",
       "47880.0     10445\n",
       "47950.0     10444\n",
       "118920.0    10426\n",
       "113910.0    10229\n",
       "118872.0    10063\n",
       "37835.0     10002\n",
       "26134.0      9977\n",
       "            ...  \n",
       "764153.0       27\n",
       "273042.0       26\n",
       "763079.0       26\n",
       "761214.0       25\n",
       "761220.0       23\n",
       "762176.0       21\n",
       "762596.0       21\n",
       "764139.0       20\n",
       "761090.0       20\n",
       "623346.0       18\n",
       "764136.0       16\n",
       "115295.0       14\n",
       "761217.0       13\n",
       "268446.0       11\n",
       "761212.0       11\n",
       "764137.0       10\n",
       "260382.0       10\n",
       "249692.0        9\n",
       "764150.0        7\n",
       "273622.0        7\n",
       "762182.0        7\n",
       "274108.0        7\n",
       "764091.0        6\n",
       "411726.0        5\n",
       "764146.0        4\n",
       "275316.0        4\n",
       "764092.0        3\n",
       "275855.0        3\n",
       "275287.0        3\n",
       "273552.0        1\n",
       "Name: regionidneighborhood, Length: 529, dtype: int64"
      ]
     },
     "execution_count": 44,
     "metadata": {},
     "output_type": "execute_result"
    }
   ],
   "source": [
    "properties.regionidneighborhood.value_counts()"
   ]
  },
  {
   "cell_type": "code",
   "execution_count": null,
   "metadata": {},
   "outputs": [],
   "source": []
  }
 ],
 "metadata": {
  "kernelspec": {
   "display_name": "Python 3",
   "language": "python",
   "name": "python3"
  },
  "language_info": {
   "codemirror_mode": {
    "name": "ipython",
    "version": 3
   },
   "file_extension": ".py",
   "mimetype": "text/x-python",
   "name": "python",
   "nbconvert_exporter": "python",
   "pygments_lexer": "ipython3",
   "version": "3.6.4"
  }
 },
 "nbformat": 4,
 "nbformat_minor": 2
}
