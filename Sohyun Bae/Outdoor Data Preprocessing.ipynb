{
 "cells": [
  {
   "cell_type": "code",
   "execution_count": 33,
   "metadata": {
    "scrolled": true
   },
   "outputs": [
    {
     "name": "stderr",
     "output_type": "stream",
     "text": [
      "C:\\ProgramData\\Anaconda3\\lib\\site-packages\\IPython\\core\\interactiveshell.py:2728: DtypeWarning: Columns (22,32,34,49,55) have mixed types. Specify dtype option on import or set low_memory=False.\n",
      "  interactivity=interactivity, compiler=compiler, result=result)\n"
     ]
    }
   ],
   "source": [
    "prop = pd.read_csv(\"properties_2016.csv\")\n",
    "train = pd.read_csv(\"train_2016_v2.csv\")\n",
    "train2016 = train.merge(prop, how=\"left\", on = 'parcelid')"
   ]
  },
  {
   "cell_type": "code",
   "execution_count": 52,
   "metadata": {},
   "outputs": [],
   "source": [
    "train2016 = df_train"
   ]
  },
  {
   "cell_type": "code",
   "execution_count": 34,
   "metadata": {},
   "outputs": [],
   "source": [
    "prop_garages =  ['garagecarcnt', 'garagetotalsqft']\n",
    "prop_yards = ['yardbuildingsqft17']\n",
    "prop_pools = ['poolcnt', 'poolsizesum','pooltypeid10', 'pooltypeid2', 'pooltypeid7']"
   ]
  },
  {
   "cell_type": "markdown",
   "metadata": {},
   "source": [
    "#  COLUMNS TO DROP\n",
    "'yardbuildingsqft26' (데이터의 개수 96개), 'hashottuborspa' (pooltypeid2와 pooltypeid10과 동일한 값, 분포)"
   ]
  },
  {
   "cell_type": "markdown",
   "metadata": {},
   "source": [
    "# 전처리순서 \n",
    "yard > garage > pool "
   ]
  },
  {
   "cell_type": "markdown",
   "metadata": {},
   "source": [
    "1. yardbuilding17 의 NaN을 0으로 채운다\n",
    "3. garagecarcnt의 NaN을 0으로 채운다ㅏ\n",
    "    2. garagecarcnt가 null인데 garagetotalsqft 이 126.0인 값을 1로 채운다\n",
    "    2. garagecarcnt의 NaN을 0으로 채운다ㅏ \n",
    "4. garagetotalsqft을 garagecarcnt에 따른 mean값을 채운다\n",
    "5. poolcnt의 nan을 0값으로 채운다\n",
    "5. pooltypeid2,7,10 의 nan을 0값으로 채운다\n",
    "6. poolsizesum 을 추측하는 garagetotalsqft, finishedfloor1sqarefeet, poolcnt에 의한 StatsModel로 nan값을 predict해 채운다\n"
   ]
  },
  {
   "cell_type": "markdown",
   "metadata": {},
   "source": [
    "1.yardbuilding17 의 NaN을 0으로 채운다"
   ]
  },
  {
   "cell_type": "code",
   "execution_count": 35,
   "metadata": {},
   "outputs": [],
   "source": [
    "train2016.loc[train2016.yardbuildingsqft17.isnull(), 'yardbuildingsqft17'] = 0.0"
   ]
  },
  {
   "cell_type": "markdown",
   "metadata": {},
   "source": [
    "2.garagecarcnt의 NaN을 0으로 채운다ㅏ\n",
    "    1. garagecarcnt가 null인데 garagetotalsqft 이 126.0인 값을 1로 채운다\n",
    "    2. garagecarcnt의 NaN을 0으로 채운다ㅏ "
   ]
  },
  {
   "cell_type": "code",
   "execution_count": 36,
   "metadata": {},
   "outputs": [
    {
     "data": {
      "text/html": [
       "<div>\n",
       "<style scoped>\n",
       "    .dataframe tbody tr th:only-of-type {\n",
       "        vertical-align: middle;\n",
       "    }\n",
       "\n",
       "    .dataframe tbody tr th {\n",
       "        vertical-align: top;\n",
       "    }\n",
       "\n",
       "    .dataframe thead th {\n",
       "        text-align: right;\n",
       "    }\n",
       "</style>\n",
       "<table border=\"1\" class=\"dataframe\">\n",
       "  <thead>\n",
       "    <tr style=\"text-align: right;\">\n",
       "      <th></th>\n",
       "      <th>garagecarcnt</th>\n",
       "      <th>garagetotalsqft</th>\n",
       "    </tr>\n",
       "  </thead>\n",
       "  <tbody>\n",
       "    <tr>\n",
       "      <th>57609</th>\n",
       "      <td>0.0</td>\n",
       "      <td>126.0</td>\n",
       "    </tr>\n",
       "  </tbody>\n",
       "</table>\n",
       "</div>"
      ],
      "text/plain": [
       "       garagecarcnt  garagetotalsqft\n",
       "57609           0.0            126.0"
      ]
     },
     "execution_count": 36,
     "metadata": {},
     "output_type": "execute_result"
    }
   ],
   "source": [
    "train2016[['garagecarcnt', 'garagetotalsqft']][(train2016.garagetotalsqft != 0) & (train2016.garagecarcnt == 0)]"
   ]
  },
  {
   "cell_type": "code",
   "execution_count": 46,
   "metadata": {},
   "outputs": [],
   "source": [
    "train2016.loc[57609, 'garagecarcnt'] = 1.0"
   ]
  },
  {
   "cell_type": "markdown",
   "metadata": {},
   "source": [
    "3.garagetotalsqft을 garagecarcnt에 따른 mean값을 채운다"
   ]
  },
  {
   "cell_type": "code",
   "execution_count": 38,
   "metadata": {
    "scrolled": true
   },
   "outputs": [
    {
     "data": {
      "text/html": [
       "<div>\n",
       "<style scoped>\n",
       "    .dataframe tbody tr th:only-of-type {\n",
       "        vertical-align: middle;\n",
       "    }\n",
       "\n",
       "    .dataframe tbody tr th {\n",
       "        vertical-align: top;\n",
       "    }\n",
       "\n",
       "    .dataframe thead th {\n",
       "        text-align: right;\n",
       "    }\n",
       "</style>\n",
       "<table border=\"1\" class=\"dataframe\">\n",
       "  <thead>\n",
       "    <tr style=\"text-align: right;\">\n",
       "      <th></th>\n",
       "      <th>garagetotalsqft</th>\n",
       "    </tr>\n",
       "    <tr>\n",
       "      <th>garagecarcnt</th>\n",
       "      <th></th>\n",
       "    </tr>\n",
       "  </thead>\n",
       "  <tbody>\n",
       "    <tr>\n",
       "      <th>0.0</th>\n",
       "      <td>0.434483</td>\n",
       "    </tr>\n",
       "    <tr>\n",
       "      <th>1.0</th>\n",
       "      <td>125.248989</td>\n",
       "    </tr>\n",
       "    <tr>\n",
       "      <th>2.0</th>\n",
       "      <td>390.600082</td>\n",
       "    </tr>\n",
       "    <tr>\n",
       "      <th>3.0</th>\n",
       "      <td>758.722474</td>\n",
       "    </tr>\n",
       "    <tr>\n",
       "      <th>4.0</th>\n",
       "      <td>969.465649</td>\n",
       "    </tr>\n",
       "    <tr>\n",
       "      <th>5.0</th>\n",
       "      <td>1304.351852</td>\n",
       "    </tr>\n",
       "    <tr>\n",
       "      <th>6.0</th>\n",
       "      <td>1645.812500</td>\n",
       "    </tr>\n",
       "    <tr>\n",
       "      <th>7.0</th>\n",
       "      <td>1982.363636</td>\n",
       "    </tr>\n",
       "    <tr>\n",
       "      <th>8.0</th>\n",
       "      <td>2313.000000</td>\n",
       "    </tr>\n",
       "    <tr>\n",
       "      <th>9.0</th>\n",
       "      <td>2704.166667</td>\n",
       "    </tr>\n",
       "    <tr>\n",
       "      <th>10.0</th>\n",
       "      <td>3077.000000</td>\n",
       "    </tr>\n",
       "    <tr>\n",
       "      <th>11.0</th>\n",
       "      <td>3355.000000</td>\n",
       "    </tr>\n",
       "    <tr>\n",
       "      <th>13.0</th>\n",
       "      <td>4048.000000</td>\n",
       "    </tr>\n",
       "    <tr>\n",
       "      <th>14.0</th>\n",
       "      <td>4384.000000</td>\n",
       "    </tr>\n",
       "    <tr>\n",
       "      <th>24.0</th>\n",
       "      <td>7339.000000</td>\n",
       "    </tr>\n",
       "  </tbody>\n",
       "</table>\n",
       "</div>"
      ],
      "text/plain": [
       "              garagetotalsqft\n",
       "garagecarcnt                 \n",
       "0.0                  0.434483\n",
       "1.0                125.248989\n",
       "2.0                390.600082\n",
       "3.0                758.722474\n",
       "4.0                969.465649\n",
       "5.0               1304.351852\n",
       "6.0               1645.812500\n",
       "7.0               1982.363636\n",
       "8.0               2313.000000\n",
       "9.0               2704.166667\n",
       "10.0              3077.000000\n",
       "11.0              3355.000000\n",
       "13.0              4048.000000\n",
       "14.0              4384.000000\n",
       "24.0              7339.000000"
      ]
     },
     "execution_count": 38,
     "metadata": {},
     "output_type": "execute_result"
    }
   ],
   "source": [
    "mean_garagesqft = train2016[prop_garages].groupby(['garagecarcnt']).agg('mean')\n",
    "mean_garagesqft"
   ]
  },
  {
   "cell_type": "code",
   "execution_count": 55,
   "metadata": {},
   "outputs": [],
   "source": [
    "def garagesqft_fillna(garagecarcnt):\n",
    "    x = round(mean_garagesqft.loc[garagecarcnt][0], 0)\n",
    "    print(x)\n",
    "    train2016.loc[(train2016.garagecarcnt == garagecarcnt) & (train2016.garagetotalsqft == 0),'garagetotalsqft'] = x"
   ]
  },
  {
   "cell_type": "code",
   "execution_count": 56,
   "metadata": {},
   "outputs": [
    {
     "name": "stdout",
     "output_type": "stream",
     "text": [
      "125.0\n",
      "391.0\n",
      "759.0\n",
      "969.0\n",
      "1304.0\n",
      "1646.0\n",
      "1982.0\n",
      "2313.0\n",
      "2704.0\n",
      "3077.0\n",
      "3355.0\n",
      "4048.0\n",
      "4384.0\n",
      "7339.0\n"
     ]
    }
   ],
   "source": [
    "for i in mean_garagesqft.index[1:] :\n",
    "    garagesqft_fillna(i)"
   ]
  },
  {
   "cell_type": "markdown",
   "metadata": {},
   "source": [
    "4.poolcnt의 nan을 0값으로 채운다"
   ]
  },
  {
   "cell_type": "code",
   "execution_count": 41,
   "metadata": {},
   "outputs": [],
   "source": [
    "train2016.poolcnt.fillna(value=0.0, inplace=True)"
   ]
  },
  {
   "cell_type": "markdown",
   "metadata": {},
   "source": [
    "5.pooltypeid2,7,10의 nan을 0으로 채운다"
   ]
  },
  {
   "cell_type": "code",
   "execution_count": 66,
   "metadata": {},
   "outputs": [],
   "source": [
    "train2016[['pooltypeid2','pooltypeid7','pooltypeid10']] = train2016[['pooltypeid2','pooltypeid7','pooltypeid10']].fillna(value=0)"
   ]
  },
  {
   "cell_type": "markdown",
   "metadata": {},
   "source": [
    "6.poolsizesum 을 추측하는 garagetotalsqft, finishedsquarefeet50, poolcnt에 의한 StatsModel로 nan값을 predict해 채운다\n",
    "\n",
    "\n",
    "(poolsizesum와 상관이 있는 면적 데이터로 - garagetotalsqft, finishedsquarefeet50- 와 poolcnt)"
   ]
  },
  {
   "cell_type": "code",
   "execution_count": 42,
   "metadata": {},
   "outputs": [],
   "source": [
    "model_poolsizesum = sm.OLS.from_formula(\"poolsizesum~I(finishedsquarefeet50*0.01)+I(garagetotalsqft*0.01)+C(poolcnt)+0\", data = train2016)\n",
    "poolsizesum_result = model_poolsizesum.fit()\n",
    "predicted_poolsizesum = poolsizesum_result.predict(train2016[['poolcnt','finishedsquarefeet50', 'garagetotalsqft']].dropna())"
   ]
  },
  {
   "cell_type": "code",
   "execution_count": 43,
   "metadata": {
    "scrolled": true
   },
   "outputs": [],
   "source": [
    "for i in predicted_poolsizesum.index :\n",
    "    if train2016.loc[i, 'poolcnt'] > 0:\n",
    "        train2016.loc[i, 'poolsizesum'] = round(predicted_poolsizesum.loc(0)[i], 0)\n",
    "    else:\n",
    "        pass\n"
   ]
  },
  {
   "cell_type": "code",
   "execution_count": 51,
   "metadata": {},
   "outputs": [
    {
     "data": {
      "text/plain": [
       "17901"
      ]
     },
     "execution_count": 51,
     "metadata": {},
     "output_type": "execute_result"
    }
   ],
   "source": [
    "len(train2016[(train2016.poolcnt !=0) & (train2016.poolsizesum !=0)])"
   ]
  }
 ],
 "metadata": {
  "kernelspec": {
   "display_name": "Python 3",
   "language": "python",
   "name": "python3"
  },
  "language_info": {
   "codemirror_mode": {
    "name": "ipython",
    "version": 3
   },
   "file_extension": ".py",
   "mimetype": "text/x-python",
   "name": "python",
   "nbconvert_exporter": "python",
   "pygments_lexer": "ipython3",
   "version": "3.6.4"
  }
 },
 "nbformat": 4,
 "nbformat_minor": 2
}
